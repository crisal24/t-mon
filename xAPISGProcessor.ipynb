{
 "cells": [
  {
   "cell_type": "markdown",
   "metadata": {},
   "source": [
    "# xAPI-SG Processor"
   ]
  },
  {
   "cell_type": "markdown",
   "metadata": {},
   "source": [
    "### Processor of traces following the Experience API for Serious Games Profile (xAPI-SG)\n",
    "\n",
    "**xAPI-SG main reference:**  \n",
    "*Applying standards to systematize learning analytics in serious games.\n",
    "Ángel Serrano-Laguna, Iván Martínez-Ortiz, Jason Haag, Damon Regan, Andy Johnson, Baltasar Fernández-Manjón \n",
    "Computer Standards & Interfaces 50 (2017) 116–123, http://dx.doi.org/10.1016/j.csi.2016.09.014*\n",
    "\n",
    "Further info on GitHub wiki page: https://github.com/e-ucm/rage-analytics/wiki/xAPI-SG-Profile "
   ]
  },
  {
   "cell_type": "markdown",
   "metadata": {},
   "source": [
    "The following code:\n",
    "- expects as input a JSON file with a list of xAPI-SG statements\n",
    "- analyzes the xAPI-SG statements and fills an adaptation of the default set of visualizations\n",
    "https://github.com/e-ucm/rage-analytics/wiki/Default-visualizations-teacher\n",
    "+"
   ]
  },
  {
   "cell_type": "code",
   "execution_count": 1,
   "metadata": {},
   "outputs": [
    {
     "name": "stderr",
     "output_type": "stream",
     "text": [
      "In D:\\ProgramData\\Anaconda3\\envs\\seriousgame-xapi-eucm\\lib\\site-packages\\matplotlib\\mpl-data\\stylelib\\_classic_test.mplstyle: \n",
      "The text.latex.preview rcparam was deprecated in Matplotlib 3.3 and will be removed two minor releases later.\n",
      "In D:\\ProgramData\\Anaconda3\\envs\\seriousgame-xapi-eucm\\lib\\site-packages\\matplotlib\\mpl-data\\stylelib\\_classic_test.mplstyle: \n",
      "The mathtext.fallback_to_cm rcparam was deprecated in Matplotlib 3.3 and will be removed two minor releases later.\n",
      "In D:\\ProgramData\\Anaconda3\\envs\\seriousgame-xapi-eucm\\lib\\site-packages\\matplotlib\\mpl-data\\stylelib\\_classic_test.mplstyle: Support for setting the 'mathtext.fallback_to_cm' rcParam is deprecated since 3.3 and will be removed two minor releases later; use 'mathtext.fallback : 'cm' instead.\n",
      "In D:\\ProgramData\\Anaconda3\\envs\\seriousgame-xapi-eucm\\lib\\site-packages\\matplotlib\\mpl-data\\stylelib\\_classic_test.mplstyle: \n",
      "The validate_bool_maybe_none function was deprecated in Matplotlib 3.3 and will be removed two minor releases later.\n",
      "In D:\\ProgramData\\Anaconda3\\envs\\seriousgame-xapi-eucm\\lib\\site-packages\\matplotlib\\mpl-data\\stylelib\\_classic_test.mplstyle: \n",
      "The savefig.jpeg_quality rcparam was deprecated in Matplotlib 3.3 and will be removed two minor releases later.\n",
      "In D:\\ProgramData\\Anaconda3\\envs\\seriousgame-xapi-eucm\\lib\\site-packages\\matplotlib\\mpl-data\\stylelib\\_classic_test.mplstyle: \n",
      "The keymap.all_axes rcparam was deprecated in Matplotlib 3.3 and will be removed two minor releases later.\n",
      "In D:\\ProgramData\\Anaconda3\\envs\\seriousgame-xapi-eucm\\lib\\site-packages\\matplotlib\\mpl-data\\stylelib\\_classic_test.mplstyle: \n",
      "The animation.avconv_path rcparam was deprecated in Matplotlib 3.3 and will be removed two minor releases later.\n",
      "In D:\\ProgramData\\Anaconda3\\envs\\seriousgame-xapi-eucm\\lib\\site-packages\\matplotlib\\mpl-data\\stylelib\\_classic_test.mplstyle: \n",
      "The animation.avconv_args rcparam was deprecated in Matplotlib 3.3 and will be removed two minor releases later.\n"
     ]
    }
   ],
   "source": [
    "local = True #Set to False if working with a web-hosted Jupyter server\n",
    "import json\n",
    "import numpy as np\n",
    "from datetime import datetime, timedelta\n",
    "import copy\n",
    "import math\n",
    "import matplotlib.dates as mdates\n",
    "import matplotlib.pyplot as plt\n",
    "from collections import Counter\n",
    "import pandas as pd\n",
    "from ipywidgets import interact, interactive, HBox, Layout,VBox\n",
    "import ipywidgets as widgets\n",
    "from IPython.display import display, clear_output\n",
    "import pprint\n",
    "plt.style.use('dark_background')\n",
    "plt.rcParams['figure.figsize']=[10, 8]"
   ]
  },
  {
   "cell_type": "markdown",
   "metadata": {},
   "source": [
    "***Display all* function** is constructing an app to display all vis"
   ]
  },
  {
   "cell_type": "code",
   "execution_count": 5,
   "metadata": {
    "pycharm": {
     "name": "#%%\n"
    }
   },
   "outputs": [
    {
     "data": {
      "application/vnd.jupyter.widget-view+json": {
       "model_id": "e5b4b2be0b2e4e0a94ba41bec314cbea",
       "version_major": 2,
       "version_minor": 0
      },
      "text/plain": []
     },
     "metadata": {},
     "output_type": "display_data"
    }
   ],
   "source": [
    "players_info = {} # dict with players info\n",
    "timeformats=['%Y-%m-%dT%H:%M:%SZ','%Y-%m-%dT%H:%M:%S.%fZ'] #array of time format\n",
    "\n",
    "%run fileBrowserAndUploadButtonToLoadProcessStatements.ipynb\n",
    "%run globalsSelectors.ipynb\n",
    "\n",
    "def displayAllsVisualisations():\n",
    "    #Pie chart with number of games started and completed\n",
    "    %run vis/xAPISG-GamesStartedCompleted.ipynb\n",
    "    games_started_completed=vis_games_started_completed()\n",
    "    #Bar chart with number of times each video was seen and skipped\n",
    "    %run vis/xAPISG-VideosSeenSkipped.ipynb\n",
    "    videoseenskipped=vis_videos_seen_skipped()\n",
    "    #Line chart with progress of players per time\n",
    "    %run vis/xAPISG-PlayersProgress.ipynb\n",
    "    playerprogress=vis_players_progress()\n",
    "    #Bar chart with scores of players in each completable\n",
    "    %run vis/xAPISG-CompletablesScores.ipynb\n",
    "    completable_score=vis_completables_scores()\n",
    "    #Bar chart with progress of players in each completable\n",
    "    %run vis/xAPISG-CompletablesProgress.ipynb\n",
    "    completable_progress=vis_completables_progress()\n",
    "    #Bar chart with max and min completion time in each completable\n",
    "    %run vis/xAPISG-CompletablesTimes.ipynb\n",
    "    completable_time=vis_completables_times()\n",
    "    completabletab=VBox([completable_score, completable_progress, completable_time])\n",
    "    #Bar chart with number of correct and incorrect answers per player\n",
    "    %run vis/xAPISG-CorrectIncorrectPerPlayer.ipynb\n",
    "    resaltperplayer=vis_correct_incorrect_player()\n",
    "    #Bar chart with number of correct and incorrect answers per question (alternative)\n",
    "    %run vis/xAPISG-CorrectIncorrectPerQuestion.ipynb\n",
    "    resaltperalternative=vis_correct_incorrect_question()\n",
    "    #Bar chart per question, with number of times each alternative has been selected\n",
    "    %run vis/xAPISG-AlternativesSelectedQuestion.ipynb\n",
    "    resalt=vis_alternatives_selected_question()\n",
    "    alternativetab=VBox([resaltperplayer, resaltperalternative, resalt])\n",
    "    tabs=widgets.Tab(children=[games_started_completed, videoseenskipped, playerprogress, completabletab,alternativetab])\n",
    "    tabs.set_title(0,\"Games started and Completed\")\n",
    "    tabs.set_title(1,\"Videos seen and skipped\")\n",
    "    tabs.set_title(2,\"Progress\")\n",
    "    tabs.set_title(3,\"Completable\")\n",
    "    tabs.set_title(4,\"Alternative\")\n",
    "    tabs.selected_index=tabcheckboxes.selected_index\n",
    "    widgets.link((tabs,'selected_index'),(tabcheckboxes,'selected_index'))\n",
    "    display(tabs)\n",
    "\n",
    "if local:\n",
    "    display(fileBrowser.widget())\n",
    "else:\n",
    "    display(app)\n",
    "    with outCheckboxes:\n",
    "        display_checkboxes()\n",
    "        clear_output(wait=True)\n",
    "    displayvis(None)"
   ]
  }
 ],
 "metadata": {
  "kernelspec": {
   "display_name": "Python 3",
   "language": "python",
   "name": "python3"
  },
  "language_info": {
   "codemirror_mode": {
    "name": "ipython",
    "version": 3
   },
   "file_extension": ".py",
   "mimetype": "text/x-python",
   "name": "python",
   "nbconvert_exporter": "python",
   "pygments_lexer": "ipython3",
   "version": "3.6.10"
  }
 },
 "nbformat": 4,
 "nbformat_minor": 4
}