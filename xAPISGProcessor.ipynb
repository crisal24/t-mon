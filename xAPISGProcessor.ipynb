{
 "cells": [
  {
   "cell_type": "markdown",
   "metadata": {
    "collapsed": false
   },
   "source": [
    "# xAPI-SG Processor"
   ]
  },
  {
   "cell_type": "markdown",
   "source": [
    "### Processor of traces following the Experience API for Serious Games Profile (xAPI-SG)\n",
    "\n",
    "**xAPI-SG main reference:**\n",
    "*Applying standards to systematize learning analytics in serious games.\n",
    "Ángel Serrano-Laguna, Iván Martínez-Ortiz, Jason Haag, Damon Regan, Andy Johnson, Baltasar Fernández-Manjón\n",
    "Computer Standards & Interfaces 50 (2017) 116–123, http://dx.doi.org/10.1016/j.csi.2016.09.014*\n",
    "\n",
    "Further info on GitHub wiki page: https://github.com/e-ucm/rage-analytics/wiki/xAPI-SG-Profile"
   ],
   "metadata": {
    "collapsed": false
   }
  },
  {
   "cell_type": "markdown",
   "source": [
    "The following code:\n",
    "- expects as input a JSON file with a list of xAPI-SG statements\n",
    "- analyzes the xAPI-SG statements and fills an adaptation of the default set of visualizations\n",
    "https://github.com/e-ucm/rage-analytics/wiki/Default-visualizations-teacher"
   ],
   "metadata": {
    "collapsed": false
   }
  },
  {
   "cell_type": "code",
   "execution_count": null,
   "metadata": {
    "collapsed": false,
    "pycharm": {
     "name": "#%%\n"
    }
   },
   "outputs": [],
   "source": [
    "local = True #Set to False if working with a web-hosted Jupyter server\n",
    "import json\n",
    "import numpy as np\n",
    "from datetime import datetime, timedelta\n",
    "import copy\n",
    "import math\n",
    "import matplotlib.dates as mdates\n",
    "import matplotlib.pyplot as plt\n",
    "from collections import Counter\n",
    "import pandas as pd\n",
    "from ipywidgets import interact, interactive, fixed, HBox, Layout,VBox\n",
    "import ipywidgets as widgets\n",
    "from IPython.display import display, clear_output\n",
    "import pprint\n",
    "plt.style.use('default')"
   ]
  },
  {
   "cell_type": "markdown",
   "metadata": {},
   "source": [
    "***Display all* function** is constructing an app to display all vis"
   ]
  },
  {
   "cell_type": "code",
   "execution_count": null,
   "outputs": [],
   "source": [
    "players_info = {} # dict with players info\n",
    "global timeformats\n",
    "timeformats=['%Y-%m-%dT%H:%M:%SZ','%Y-%m-%dT%H:%M:%S.%fZ'] #array of time format\n",
    "\n",
    "%run fileBrowserAndUploadButtonToLoadProcessStatements.ipynb\n",
    "%run vis/helpersFunctions/clearFigMatplotlib.ipynb\n",
    "%run globalsSelectors.ipynb\n",
    "\n",
    "header=widgets.HTML(\"<h1>xAPI-SG Processor</h1> <h2>Please select .json xAPI SG file to process this file and see visualisations</h2>\")\n",
    "footer=widgets.HTML(\"<h4>xAPI-SG Processor, by eUCM research team</h4>\")\n",
    "if local:\n",
    "    app=VBox([header,fileBrowser.widget(),footer])\n",
    "    display(app)\n",
    "else:\n",
    "    app=VBox([header,uploadButtonApp,footer])\n",
    "    display(app)\n",
    "    with outTabs:\n",
    "        display_checkboxes()\n",
    "        clear_output(wait=True)\n",
    "    displayvis(None)"
   ],
   "metadata": {
    "collapsed": false,
    "pycharm": {
     "name": "#%%\n"
    }
   }
  }
 ],
 "metadata": {
  "kernelspec": {
   "display_name": "Python 3",
   "language": "python",
   "name": "python3"
  },
  "language_info": {
   "codemirror_mode": {
    "name": "ipython",
    "version": 3
   },
   "file_extension": ".py",
   "mimetype": "text/x-python",
   "name": "python",
   "nbconvert_exporter": "python",
   "pygments_lexer": "ipython3",
   "version": "3.6.10"
  }
 },
 "nbformat": 4,
 "nbformat_minor": 4
}