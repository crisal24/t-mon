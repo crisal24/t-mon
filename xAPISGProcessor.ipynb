{
 "cells": [
  {
   "cell_type": "markdown",
   "source": [
    "# xAPI-SG Processor"
   ],
   "metadata": {
    "collapsed": false
   }
  },
  {
   "cell_type": "markdown",
   "source": [
    "### Processor of traces following the Experience API for Serious Games Profile (xAPI-SG)\n",
    "\n",
    "**xAPI-SG main reference:**\n",
    "*Applying standards to systematize learning analytics in serious games.\n",
    "Ángel Serrano-Laguna, Iván Martínez-Ortiz, Jason Haag, Damon Regan, Andy Johnson, Baltasar Fernández-Manjón\n",
    "Computer Standards & Interfaces 50 (2017) 116–123, http://dx.doi.org/10.1016/j.csi.2016.09.014*\n",
    "\n",
    "Further info on GitHub wiki page: https://github.com/e-ucm/rage-analytics/wiki/xAPI-SG-Profile"
   ],
   "metadata": {
    "collapsed": false
   }
  },
  {
   "cell_type": "markdown",
   "source": [
    "The following code:\n",
    "- expects as input a JSON file with a list of xAPI-SG statements\n",
    "- analyzes the xAPI-SG statements and fills an adaptation of the default set of visualizations\n",
    "https://github.com/e-ucm/rage-analytics/wiki/Default-visualizations-teacher"
   ],
   "metadata": {
    "collapsed": false
   }
  },
  {
   "cell_type": "code",
   "execution_count": null,
   "outputs": [],
   "source": [
    "local = True #Set to False if working with a web-hosted Jupyter server\n",
    "import json\n",
    "import numpy as np\n",
    "from datetime import datetime, timedelta\n",
    "import copy\n",
    "import math\n",
    "import matplotlib.dates as mdates\n",
    "import matplotlib.pyplot as plt\n",
    "from collections import Counter\n",
    "import pandas as pd\n",
    "from ipywidgets import interact, interactive, fixed, HBox, Layout,VBox\n",
    "import ipywidgets as widgets\n",
    "from IPython.display import display, clear_output\n",
    "import pprint\n",
    "plt.style.use('dark_background')\n",
    "plt.rcParams['figure.figsize']=[10, 8]"
   ],
   "metadata": {
    "collapsed": false,
    "pycharm": {
     "name": "#%%\n"
    }
   }
  },
  {
   "cell_type": "markdown",
   "source": [
    "***Display all* function** is constructing an app to display all vis"
   ],
   "metadata": {
    "collapsed": false
   }
  },
  {
   "cell_type": "code",
   "execution_count": null,
   "outputs": [],
   "source": [
    "players_info = {} # dict with players info\n",
    "timeformats=['%Y-%m-%dT%H:%M:%SZ','%Y-%m-%dT%H:%M:%S.%fZ'] #array of time format\n",
    "\n",
    "%run fileBrowserAndUploadButtonToLoadProcessStatements.ipynb\n",
    "%run globalsSelectors.ipynb\n",
    "\n",
    "tabsTitle=[\"Start/Complete games\",\"Videos\",\"Progress\",\"Completable\",\"Alternative\",\"Items interactions\",\"Accessibles\",\"Menus\"]\n",
    "\n",
    "def displayAllVisualisations():\n",
    "    #Pie chart with number of games started and completed\n",
    "    %run vis/xAPISG-GamesStartedCompleted.ipynb\n",
    "    games_started_completed=vis_games_started_completed()\n",
    "    tab_game_started_completed=VBox([\n",
    "        widgets.HTML(\"<h3>Use the playerSelected widget to select the players you want to analyse</h3>\"),\n",
    "        checkboxesPlayersSelected.multi_select,\n",
    "        games_started_completed\n",
    "    ])\n",
    "    #Bar chart with number of times each video was seen and skipped\n",
    "    %run vis/xAPISG-VideosSeenSkipped.ipynb\n",
    "    videoseenskipped=vis_videos_seen_skipped()\n",
    "    tabvideoseen=VBox([\n",
    "        widgets.HTML(\"<h3>Use the selectors widget to select the players and videos you want to analyse</h3>\"),\n",
    "        HBox([\n",
    "            checkboxesPlayersSelected.multi_select,\n",
    "            checkboxesVideoSelected.multi_select\n",
    "        ]),\n",
    "        videoseenskipped\n",
    "    ])\n",
    "    #Line chart with progress of players per time\n",
    "    %run vis/xAPISG-PlayersProgress.ipynb\n",
    "    playerprogress=vis_players_progress()\n",
    "    tabplayerprogress=VBox([\n",
    "        widgets.HTML(\"<h3>Use the playerSelected widget to select the players you want to analyse</h3>\"),\n",
    "        checkboxesPlayersSelected.multi_select,\n",
    "        playerprogress\n",
    "    ])\n",
    "    #Bar chart with scores of players in each completable\n",
    "    %run vis/xAPISG-CompletablesScores.ipynb\n",
    "    completable_score=vis_completables_scores()\n",
    "    #Bar chart with progress of players in each completable\n",
    "    %run vis/xAPISG-CompletablesProgress.ipynb\n",
    "    completable_progress=vis_completables_progress()\n",
    "    #Bar chart with max and min completion time in each completable\n",
    "    %run vis/xAPISG-CompletablesTimes.ipynb\n",
    "    completable_time=vis_completables_times()\n",
    "    completabletab=VBox([\n",
    "        widgets.HTML(\"<h3>Use the Selectors widgets to select the players and completables you want to analyse</h3>\"),\n",
    "        HBox([\n",
    "            checkboxesPlayersSelected.multi_select,\n",
    "            checkboxesCompletableSelected.multi_select\n",
    "        ]),\n",
    "        completable_score,\n",
    "        completable_progress,\n",
    "        completable_time\n",
    "    ])\n",
    "    #Bar chart with number of correct and incorrect answers per player\n",
    "    %run vis/xAPISG-CorrectIncorrectPerPlayer.ipynb\n",
    "    #Bar chart with number of correct and incorrect answers per question (alternative)\n",
    "    %run vis/xAPISG-CorrectIncorrectPerQuestion.ipynb\n",
    "    #Bar chart per question, with number of times each alternative has been selected\n",
    "    %run vis/xAPISG-AlternativesSelectedQuestion.ipynb\n",
    "    alternativetab=VBox([\n",
    "        widgets.HTML(\"<h3>Use the Selectors widgets to select the players and alternatives you want to analyse</h3>\"),\n",
    "        HBox([\n",
    "            checkboxesPlayersSelected.multi_select,\n",
    "            checkboxesAlternativeSelected.multi_select\n",
    "        ]),\n",
    "        vis_correct_incorrect_player(),\n",
    "        vis_correct_incorrect_question(),\n",
    "        vis_alternatives_selected_question()\n",
    "    ])\n",
    "    #item interacted\n",
    "    %run vis/xAPISG-ItemsInteracted.ipynb\n",
    "    %run vis/xAPISG-ItemsActionTypeInteracted.ipynb\n",
    "    tabItem=VBox([\n",
    "        widgets.HTML(\"<h3>Use the Selectors widgets to select the players and items you want to analyse</h3>\"),\n",
    "        HBox([\n",
    "            checkboxesPlayersSelected.multi_select,\n",
    "            checkboxesItemInteractedSelected.multi_select\n",
    "        ]),\n",
    "        vis_items_interacted_times_heatmap_interacted(),\n",
    "        vis_items_interacted_times_interact(),\n",
    "        vis_items_action_type_interacted_times_interact()\n",
    "    ])\n",
    "    %run vis/xAPISG-AccessedAccessible.ipynb\n",
    "    tabAccessible=VBox([\n",
    "        widgets.HTML(\"<h3>Use the Selectors widgets to select the players and accessed zone you want to analyse</h3>\"),\n",
    "        HBox([\n",
    "            checkboxesPlayersSelected.multi_select,\n",
    "            checkboxesAccessibleSelected.multi_select\n",
    "        ]),\n",
    "        vis_accessibles_times_heatMap_interacted(),\n",
    "        vis_accessibles_times_interacted()\n",
    "    ])\n",
    "    #menus selected\n",
    "    %run vis/xAPISG-MenusSelected.ipynb\n",
    "    menusTab=VBox([\n",
    "        widgets.HTML(\"<h3>Use the Selectors widgets to select the players and menus you want to analyse</h3>\"),\n",
    "        HBox([\n",
    "            checkboxesPlayersSelected.multi_select,\n",
    "            checkboxesSelectedmenus.multi_select\n",
    "        ]),\n",
    "        vis_menu_selected_interactive()\n",
    "    ])\n",
    "    global tabs\n",
    "    tabs=widgets.Tab(children=[\n",
    "        tab_game_started_completed,\n",
    "        tabvideoseen,\n",
    "        tabplayerprogress,\n",
    "        completabletab,\n",
    "        alternativetab,\n",
    "        tabItem,\n",
    "        tabAccessible,\n",
    "        menusTab\n",
    "    ])\n",
    "    for i in range(len(tabsTitle)):\n",
    "        tabs.set_title(i,tabsTitle[i])\n",
    "    tabs.selected_index=previoustab.selected_index\n",
    "    widgets.link((tabs,'selected_index'),(previoustab,'selected_index'))\n",
    "    display(tabs)\n",
    "\n",
    "header=widgets.HTML(\"<h1>xAPI-SG Processor</h1> <h2>Please select .json xAPI SG file to process this file and see visualisations</h2>\")\n",
    "footer=widgets.HTML(\"<h4>xAPI-SG Processor, by eUCM research team</h4>\")\n",
    "if local:\n",
    "    app=VBox([header,fileBrowser.widget(),footer])\n",
    "    display(app)\n",
    "else:\n",
    "    app=VBox([header,uploadButtonApp,footer])\n",
    "    display(app)\n",
    "    with outTabs:\n",
    "        display_checkboxes()\n",
    "        clear_output(wait=True)\n",
    "    displayvis(None)\n",
    "\n"
   ],
   "metadata": {
    "collapsed": false,
    "pycharm": {
     "name": "#%%\n"
    }
   }
  }
 ],
 "metadata": {
  "kernelspec": {
   "display_name": "Python 3",
   "language": "python",
   "name": "python3"
  },
  "language_info": {
   "codemirror_mode": {
    "name": "ipython",
    "version": 3
   },
   "file_extension": ".py",
   "mimetype": "text/x-python",
   "name": "python",
   "nbconvert_exporter": "python",
   "pygments_lexer": "ipython3",
   "version": "3.6.10"
  }
 },
 "nbformat": 4,
 "nbformat_minor": 4
}