{
 "cells": [
  {
   "cell_type": "markdown",
   "source": [
    "**File explorer** to find the file you want to analyse with **Statement Processor** to generate all data and visualisations"
   ],
   "metadata": {
    "collapsed": false
   }
  },
  {
   "cell_type": "code",
   "execution_count": null,
   "outputs": [],
   "source": [
    "%run ProcessxAPISGStatement.ipynb # notebook to process an xAPI-SG statement\n",
    "%run widgets/selectFileWidget.ipynb\n",
    "if local:\n",
    "    global fileBrowser\n",
    "    #*** !TO BE USED WHEN THE NOTEBOOK IS RUNNED LOCALLY ***\n",
    "    fileBrowser = FileBrowser()\n",
    "\n",
    "    def on_file_load(change):\n",
    "        global location_file, checkboxesPlayersSelected\n",
    "        players_info.clear()\n",
    "        # file with xAPI-SG statements\n",
    "        location_file=fileBrowser.path\n",
    "        try:\n",
    "            start_time = datetime.now()\n",
    "            ## FILE MUST CONTAIN LIST OF XAPI-SG PROFILE TRACES\n",
    "            ## (traces separated by commas and enclosed by [])\n",
    "            with open(location_file, 'r', encoding='UTF-8') as f:\n",
    "                statements_dict = json.load(f, encoding='UTF-8')\n",
    "                for s in statements_dict:\n",
    "                    process_xapisg_statement(s, players_info, timeformats)\n",
    "                end_time = datetime.now()\n",
    "        except Exception as e:\n",
    "            with fileBrowser.output:\n",
    "                print(\"FILE MUST CONTAIN LIST OF XAPI-SG PROFILE TRACES (traces separated by commas and enclosed by [])\")\n",
    "                print(\"This file cannot be analyse by the processor per statement xAPI. Please select an another file.\")\n",
    "                clear_output(wait=True)\n",
    "        with fileBrowser.output:\n",
    "            print(\"Process per statement OK\")\n",
    "            print(\"Displaying all vis...\")\n",
    "            clear_output(wait=True)\n",
    "            display_checkboxes()\n",
    "            clear_output(wait=True)\n",
    "        displayvis(None)\n",
    "    fileBrowser.buttonRun.on_click(on_file_load)\n",
    "\n",
    "else:\n",
    "    global upload_button\n",
    "    #***  !TO BE USED WHEN THE NOTEBOOK IS HOSTED ON THE WEB ***\n",
    "    upload_button=widgets.FileUpload(\n",
    "        description='Upload xAPI data',\n",
    "        accept='.json',  # Accepted file extension e.g. '.txt', '.pdf', 'image/*', 'image/*,.pdf'\n",
    "        multiple=False,  # True to accept multiple files upload else False\n",
    "        layout=Layout(width='25%')\n",
    "    )\n",
    "    global outCheckboxes, outTabs\n",
    "    outCheckboxes=widgets.Output()\n",
    "    outTabs=widgets.Output()\n",
    "    outF=VBox([outCheckboxes, outTabs])\n",
    "    app=VBox([upload_button, outF])\n",
    "\n",
    "    #Observe the file load widget (online version)\n",
    "    def on_file_upload(change):\n",
    "        global location_file, checkboxesPlayersSelected\n",
    "        location_file = (upload_button.metadata[0]['name']) #get the file name from the embedded metadata dict\n",
    "        f = upload_button.value[location_file]['content'].decode() #extract data byte string and convert to str\n",
    "        try:\n",
    "            players_info.clear()\n",
    "            start_time = datetime.now()\n",
    "            ## FILE MUST CONTAIN LIST OF XAPI-SG PROFILE TRACES\n",
    "            ## (traces separated by commas and enclosed by [])\n",
    "            statements_dict = json.loads(f, encoding='UTF-8')\n",
    "            for s in statements_dict:\n",
    "                process_xapisg_statement(s, players_info, timeformats)\n",
    "            end_time = datetime.now()\n",
    "        except Exception as e:\n",
    "            with outCheckboxes:\n",
    "                print(\"FILE MUST CONTAIN LIST OF XAPI-SG PROFILE TRACES (traces separated by commas and enclosed by [])\")\n",
    "                print(\"This file cannot be analyse by the processor per statement xAPI. Please select an another file.\")\n",
    "                clear_output(wait=True)\n",
    "        with outCheckboxes:\n",
    "                print(\"Process per statement OK\")\n",
    "                print(\"Displaying all vis...\")\n",
    "                clear_output(wait=True)\n",
    "                display_checkboxes()\n",
    "                clear_output(wait=True)\n",
    "        displayvis(None)\n",
    "\n",
    "    upload_button.observe(on_file_upload, names='value')\n",
    "\n",
    "def displayvis(change):\n",
    "    if local:\n",
    "        with fileBrowser.output2:\n",
    "            displayAllsVisualisations()\n",
    "            clear_output(wait=True)\n",
    "    else:\n",
    "        with outTabs:\n",
    "            displayAllsVisualisations()\n",
    "            clear_output(wait=True)\n"
   ],
   "metadata": {
    "collapsed": false,
    "pycharm": {
     "name": "#%%\n"
    }
   }
  }
 ],
 "metadata": {
  "kernelspec": {
   "display_name": "Python 3",
   "language": "python",
   "name": "python3"
  },
  "language_info": {
   "codemirror_mode": {
    "name": "ipython",
    "version": 2
   },
   "file_extension": ".py",
   "mimetype": "text/x-python",
   "name": "python",
   "nbconvert_exporter": "python",
   "pygments_lexer": "ipython2",
   "version": "2.7.6"
  }
 },
 "nbformat": 4,
 "nbformat_minor": 0
}