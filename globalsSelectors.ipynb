{
 "cells": [
  {
   "cell_type": "markdown",
   "source": [
    "***order* widget** is constructing a dropdown to order for alphabetic keys or for values"
   ],
   "metadata": {
    "collapsed": false
   }
  },
  {
   "cell_type": "code",
   "execution_count": null,
   "metadata": {
    "collapsed": true
   },
   "outputs": [],
   "source": [
    "#selector of order alphabetical or per values\n",
    "global order\n",
    "order=widgets.Dropdown(options=[('alphabetic',0),('value from highest to lowest',1),('value from lowest to highest',-1)],\n",
    "                                description='Order',\n",
    "                                disabled=False)"
   ]
  },
  {
   "cell_type": "markdown",
   "source": [
    "***xaxis* widget** is constructing a dropdown to select how many data we want to see in visualisations for x axis"
   ],
   "metadata": {
    "collapsed": false
   }
  },
  {
   "cell_type": "code",
   "execution_count": null,
   "outputs": [],
   "source": [
    "#number of data per visualisation with x axis\n",
    "global xaxis\n",
    "xaxis=widgets.Dropdown(options=[('Alls datas',0),('5 per visualisation',5),('25 per visualisation',25),('50 per visualisation',50),('10 first',-1),('10 last',-2)],\n",
    "                                description='x axe',\n",
    "                                disabled=False)"
   ],
   "metadata": {
    "collapsed": false,
    "pycharm": {
     "name": "#%%\n"
    }
   }
  },
  {
   "cell_type": "markdown",
   "source": [
    "***display_checkboxes* function** is constructing the multicheckboxes widgets for alls multis selections"
   ],
   "metadata": {
    "collapsed": false
   }
  },
  {
   "cell_type": "code",
   "execution_count": null,
   "outputs": [],
   "source": [
    "def display_checkboxes():\n",
    "    global tabcheckboxes, checkboxesPlayersSelected,checkboxesVideoSelected, checkboxesAlternativeSelected, checkboxesCompletableSelected,completable_score_list, completable_progress_list,completables_times_list\n",
    "    #Globals selectors\n",
    "    %run widgets/multipleSelectorCheckboxesWidget.ipynb\n",
    "    class MultiCheckboxWidgetUpdateAllVis(MultiCheckboxWidget):\n",
    "        def update(self):\n",
    "            displayvis(0)\n",
    "    players_list=sorted(list(players_info.keys()))\n",
    "    checkboxesPlayersSelected=MultiCheckboxWidgetUpdateAllVis(\"Players\", players_list)\n",
    "    %run vis/helpersFunctions/getterObjectsList.ipynb\n",
    "    videos_list=get_full_list_of_objects(\"videos_seen\",action2=\"videos_seen\", dict=False)\n",
    "    checkboxesVideoSelected=MultiCheckboxWidgetUpdateAllVis(\"Videos\", videos_list)\n",
    "    alternatives_list= get_full_list_of_objects(\"alternatives\")\n",
    "    checkboxesAlternativeSelected=MultiCheckboxWidgetUpdateAllVis(\"Alternative\", alternatives_list)\n",
    "    completable_score_list=get_full_list_of_objects(\"completables_scores\")\n",
    "    completable_progress_list=getlist_completable_progress()\n",
    "    completables_times_list=get_full_list_of_objects(\"completables_times\")\n",
    "    completables_list=set()\n",
    "    completables_list=completables_list.union(completable_score_list)\n",
    "    completables_list=completables_list.union(completable_progress_list)\n",
    "    completables_list=completables_list.union(completables_times_list)\n",
    "    completables_list=list(completables_list)\n",
    "    checkboxesCompletableSelected=MultiCheckboxWidgetUpdateAllVis(\"Completables\",completables_list)\n",
    "    tabcheckboxes=widgets.Tab(children=[\n",
    "        VBox([\n",
    "            widgets.HTML(\"Use the playerSelected widget to select the players you want to analyse\"),\n",
    "            checkboxesPlayersSelected.multi_select\n",
    "        ]),\n",
    "        VBox([\n",
    "            widgets.HTML(\"Use the selectors widget to select the players and vidéos you want to analyse\"),\n",
    "            HBox([\n",
    "                checkboxesPlayersSelected.multi_select,\n",
    "                checkboxesVideoSelected.multi_select\n",
    "            ])\n",
    "        ]),\n",
    "        VBox([\n",
    "            widgets.HTML(\"Use the playerSelected widget to select the players you want to analyse\"),\n",
    "            checkboxesPlayersSelected.multi_select\n",
    "        ]),\n",
    "        VBox([\n",
    "            widgets.HTML(\"Use the Selectors widgets to select the players and completables you want to analyse\"),\n",
    "            HBox([\n",
    "                checkboxesPlayersSelected.multi_select,\n",
    "                checkboxesCompletableSelected.multi_select\n",
    "            ])\n",
    "        ]),\n",
    "        VBox([\n",
    "            widgets.HTML(\"Use the Selectors widgets to select the players and alternatives you want to analyse\"),\n",
    "            HBox([\n",
    "                checkboxesPlayersSelected.multi_select,\n",
    "                checkboxesAlternativeSelected.multi_select\n",
    "            ])\n",
    "        ])\n",
    "    ])\n",
    "    tabcheckboxes.set_title(0,\"Games started and Completed\")\n",
    "    tabcheckboxes.set_title(1,\"Videos seen and skipped\")\n",
    "    tabcheckboxes.set_title(2,\"Progress\")\n",
    "    tabcheckboxes.set_title(3,\"Completable\")\n",
    "    tabcheckboxes.set_title(4,\"Alternative\")\n",
    "    display(tabcheckboxes)\n"
   ],
   "metadata": {
    "collapsed": false,
    "pycharm": {
     "name": "#%%\n"
    }
   }
  }
 ],
 "metadata": {
  "kernelspec": {
   "display_name": "Python 3",
   "language": "python",
   "name": "python3"
  },
  "language_info": {
   "codemirror_mode": {
    "name": "ipython",
    "version": 2
   },
   "file_extension": ".py",
   "mimetype": "text/x-python",
   "name": "python",
   "nbconvert_exporter": "python",
   "pygments_lexer": "ipython2",
   "version": "2.7.6"
  }
 },
 "nbformat": 4,
 "nbformat_minor": 0
}