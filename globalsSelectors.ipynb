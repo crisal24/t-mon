{
 "cells": [
  {
   "cell_type": "markdown",
   "source": [
    "***display_checkboxes* function** is constructing the multicheckboxes widgets for all multis selections"
   ],
   "metadata": {
    "collapsed": false
   }
  },
  {
   "cell_type": "code",
   "execution_count": null,
   "outputs": [],
   "source": [
    "%run vis/helpersFunctions/getterObjectsList.ipynb\n",
    "def display_checkboxes():\n",
    "    #Globals selectors\n",
    "    %run widgets/multipleSelectorCheckboxesWidget.ipynb\n",
    "    class MultiCheckboxWidgetUpdateAllVis(MultiCheckboxWidget):\n",
    "        def update(self):\n",
    "            displayvis(0)\n",
    "    global checkboxesPlayersSelected\n",
    "    players_list=sorted(list(players_info.keys()))\n",
    "    checkboxesPlayersSelected=MultiCheckboxWidgetUpdateAllVis(\"Players\", players_list)\n",
    "    global checkboxesVideoSelected\n",
    "    videos_list=get_full_list_of_objects(\"videos_seen\",action2=\"videos_seen\", dict=False)\n",
    "    checkboxesVideoSelected=MultiCheckboxWidgetUpdateAllVis(\"Videos\", videos_list)\n",
    "    global checkboxesAlternativeSelected\n",
    "    alternatives_list= get_full_list_of_objects(\"alternatives\")\n",
    "    checkboxesAlternativeSelected=MultiCheckboxWidgetUpdateAllVis(\"Alternative\", alternatives_list)\n",
    "    global checkboxesCompletableSelected,completable_score_list, completable_progress_list,completables_times_list\n",
    "    completable_score_list=get_full_list_of_objects(\"completables_scores\")\n",
    "    completable_progress_list=getlist_completable_progress()\n",
    "    completables_times_list=get_full_list_of_objects(\"completables_times\")\n",
    "    completables_list=set()\n",
    "    completables_list=completables_list.union(completable_score_list)\n",
    "    completables_list=completables_list.union(completable_progress_list)\n",
    "    completables_list=completables_list.union(completables_times_list)\n",
    "    completables_list=list(completables_list)\n",
    "    checkboxesCompletableSelected=MultiCheckboxWidgetUpdateAllVis(\"Completables\",completables_list)\n",
    "    global checkboxesItemInteractedSelected, item_interaction_action_type_list, item_interaction_list\n",
    "    items=set()\n",
    "    item_interaction_action_type_list=get_full_list_of_objects(\"action_type_interaction\", True)\n",
    "    items=items.union(item_interaction_action_type_list)\n",
    "    item_interaction_list=get_full_list_of_objects(\"interactions\", True)\n",
    "    items=items.union(item_interaction_list)\n",
    "    items=list(items)\n",
    "    checkboxesItemInteractedSelected=MultiCheckboxWidgetUpdateAllVis(\"Items interactions\",items)\n",
    "    global checkboxesAccessibleSelected\n",
    "    accessibles=get_full_list_of_objects(\"accessible\")\n",
    "    checkboxesAccessibleSelected=MultiCheckboxWidgetUpdateAllVis(\"Accessibles\",accessibles)\n",
    "    global checkboxesSelectedmenus\n",
    "    menus=get_full_list_of_objects(\"selected_menus\")\n",
    "    checkboxesSelectedmenus=MultiCheckboxWidgetUpdateAllVis(\"Menus selected\",menus)\n",
    "    global previoustab\n",
    "    previoustab=widgets.Tab(children=[VBox([]) for tab in tabsTitle])"

   ],
   "metadata": {
    "collapsed": false,
    "pycharm": {
     "name": "#%%\n"
    }
   }
  }
 ],
 "metadata": {
  "kernelspec": {
   "display_name": "Python 3",
   "language": "python",
   "name": "python3"
  },
  "language_info": {
   "codemirror_mode": {
    "name": "ipython",
    "version": 2
   },
   "file_extension": ".py",
   "mimetype": "text/x-python",
   "name": "python",
   "nbconvert_exporter": "python",
   "pygments_lexer": "ipython2",
   "version": "2.7.6"
  }
 },
 "nbformat": 4,
 "nbformat_minor": 0
}