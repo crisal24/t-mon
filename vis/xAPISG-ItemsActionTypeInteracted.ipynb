{
 "cells": [
  {
   "cell_type": "code",
   "execution_count": null,
   "outputs": [],
   "source": [
    "%run vis/xAPISG-noDataToFillVisualization.ipynb # notebook to create the visualisation with a message NoDataToFill\n",
    "%run vis/helpersFunctions/MultiBarMultiColor.ipynb\n",
    "\n",
    "outputActionTypeItem=widgets.Output()\n",
    "\n",
    "def vis_items_action_type_interacted_times_interact():\n",
    "    md_text = widgets.HTML(\"<h4>MultiBar for Action Type Item Interaction</h4>\")\n",
    "    multiBar=interactive(vis_items_action_type_interacted_times)\n",
    "    with outputActionTypeItem:\n",
    "        print(\"Updating visualisation with the current selection of players and items...\")\n",
    "    return widgets.VBox([md_text, multiBar, outputActionTypeItem])"
   ],
   "metadata": {
    "collapsed": false,
    "pycharm": {
     "name": "#%%\n"
    }
   }
  },
  {
   "cell_type": "markdown",
   "source": [
    "***vis_items_action_type_times* function** displays bar chart showing for each item the number of each action type by players"
   ],
   "metadata": {
    "collapsed": false
   }
  },
  {
   "cell_type": "code",
   "execution_count": 3,
   "outputs": [],
   "source": [
    "def vis_items_action_type_interacted_times():\n",
    "    playersSelected=checkboxesPlayersSelected.get_selected_options()\n",
    "    items=getSublistSelectedFromUnionListSelected(item_interaction_action_type_list, checkboxesItemInteractedSelected.get_selected_options())\n",
    "    # nber of items actiontype per player\n",
    "    nbitems=constructDictWithKeyAndSubKey(players_info, playersSelected, items, \"action_type_interaction\", True)\n",
    "    ## Multiple bar chart showing the items selected separated by action type for each personn.\n",
    "    if len(players_info.keys())!=0 and len(nbitems)>0:\n",
    "        display(multiBarMultiColor(nbitems, \"Interaction with item by action_type \", \"Players\", \"Numbers of interaction\"))\n",
    "    else:\n",
    "        noDataToFillVis(10)\n",
    "        plt.title(\"Interaction with item by action_type\")\n",
    "        plt.xlabel(\"Players\")\n",
    "        plt.ylabel(\"Numbers of interaction\")\n",
    "        plt.show()\n",
    "    with outputActionTypeItem:\n",
    "        clear_output(wait=False)"
   ],
   "metadata": {
    "collapsed": false,
    "pycharm": {
     "name": "#%%\n",
     "is_executing": false
    }
   }
  }
 ],
 "metadata": {
  "kernelspec": {
   "display_name": "Python 3",
   "language": "python",
   "name": "python3"
  },
  "language_info": {
   "codemirror_mode": {
    "name": "ipython",
    "version": 2
   },
   "file_extension": ".py",
   "mimetype": "text/x-python",
   "name": "python",
   "nbconvert_exporter": "python",
   "pygments_lexer": "ipython2",
   "version": "2.7.6"
  }
 },
 "nbformat": 4,
 "nbformat_minor": 0
}