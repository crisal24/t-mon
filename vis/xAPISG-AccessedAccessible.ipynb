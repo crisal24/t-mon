{
 "cells": [
  {
   "cell_type": "code",
   "execution_count": null,
   "outputs": [],
   "source": [
    "outputBarChartAccessible=widgets.Output()\n",
    "outputHeatMapAccessible=widgets.Output()\n",
    "\n",
    "def vis_accessibles_times_interacted():\n",
    "    md_text = widgets.HTML(\"<h4>MultiBar Accessed Accessibles</h4>\")\n",
    "    multiBar=interactive(vis_accessibles_times,\n",
    "             #constructing a dropdown to order for alphabetic keys or for values\n",
    "            order=widgets.Dropdown(options=[('alphabetic',0),('value from highest to lowest',1),('value from lowest to highest',-1)],\n",
    "                                description='Order',\n",
    "                                disabled=False))\n",
    "    with outputBarChartAccessible:\n",
    "        print(\"Updating visualisation with the current selection of players and accessibles...\")\n",
    "    return widgets.VBox([md_text, multiBar,outputBarChartAccessible])\n",
    "\n",
    "\n",
    "def vis_accessibles_times_heatMap_interacted():\n",
    "    md_text = widgets.HTML(\"<h4>Heatmap Accessed Accessibles</h4>\")\n",
    "    heatMap=interactive(vis_accessibles_times_heatMap)\n",
    "    with outputHeatMapAccessible:\n",
    "        print(\"Updating visualisation with the current selection of players and accessibles...\")\n",
    "    return widgets.VBox([md_text, heatMap,outputHeatMapAccessible])"
   ],
   "metadata": {
    "collapsed": false,
    "pycharm": {
     "name": "#%%\n"
    }
   }
  },
  {
   "cell_type": "markdown",
   "metadata": {
    "collapsed": true,
    "pycharm": {
     "name": "#%% md\n"
    }
   },
   "source": [
    "***vis_accessibles_times* function** displays bar chart showing for each accessed the number of accessibles by players\n",
    "\n",
    "Input: order : the selected order to display the graph"
   ]
  },
  {
   "cell_type": "code",
   "execution_count": null,
   "outputs": [],
   "source": [
    "%run vis/xAPISG-noDataToFillVisualization.ipynb\n",
    "def vis_accessibles_times(order):\n",
    "    playersSelected=checkboxesPlayersSelected.get_selected_options()\n",
    "    accessibles=checkboxesAccessibleSelected.get_selected_options()\n",
    "    # nber of time the player acces to a zone\n",
    "    nbaccessibles=constructMultiTab(players_info, playersSelected, accessibles, \"accessible\")\n",
    "    # Multiple bar chart showing the items selected for each personn.\n",
    "    if len(nbaccessibles)>0:\n",
    "        display(multiBarSeparated(nbaccessibles, order, \"Accessed accessible \", \"Players\", \"Numbers of accessed\"))\n",
    "    else:\n",
    "        noDataToFillVis(10)\n",
    "        plt.title(\"Accessed accessible\")\n",
    "        plt.xlabel(\"Players\")\n",
    "        plt.ylabel(\"Numbers of accessed\")\n",
    "        plt.show()\n",
    "    with outputBarChartAccessible:\n",
    "        clear_output(wait=False)"
   ],
   "metadata": {
    "collapsed": false,
    "pycharm": {
     "name": "#%%\n"
    }
   }
  },
  {
   "cell_type": "markdown",
   "source": [
    "***vis_accessibles_times_heatMap* function** displays heatmap showing for each accessed the number of accessibles by players"
   ],
   "metadata": {
    "collapsed": false,
    "pycharm": {
     "name": "#%% md\n"
    }
   }
  },
  {
   "cell_type": "code",
   "execution_count": 1,
   "outputs": [],
   "source": [
    "def vis_accessibles_times_heatMap():\n",
    "    label_players=checkboxesPlayersSelected.get_selected_options()\n",
    "    label_accessible=checkboxesAccessibleSelected.get_selected_options()\n",
    "    nbaccessibles=constructHeatMap(players_info, label_players, label_accessible, \"accessible\")\n",
    "    ## Now use the heatmap function to plot the results\n",
    "    if len(label_players)>0 and len(label_accessible)>0:\n",
    "        heatMap(nbaccessibles, label_players, label_accessible)\n",
    "        font=len(label_accessible)\n",
    "    else:\n",
    "        noDataToFillVis(10)\n",
    "        font=10\n",
    "    plt.xlabel(\"Players\", fontsize=font)\n",
    "    plt.ylabel(\"Accessibles\", fontsize=font)\n",
    "    plt.title(\"Heatmap showing accessed accesible by players\", fontsize=font*1.5)\n",
    "    plt.show()\n",
    "    with outputHeatMapAccessible:\n",
    "        clear_output(wait=False)"
   ],
   "metadata": {
    "collapsed": false,
    "pycharm": {
     "name": "#%%\n"
    }
   }
  }
 ],
 "metadata": {
  "kernelspec": {
   "display_name": "Python 3",
   "language": "python",
   "name": "python3"
  },
  "language_info": {
   "codemirror_mode": {
    "name": "ipython",
    "version": 2
   },
   "file_extension": ".py",
   "mimetype": "text/x-python",
   "name": "python",
   "nbconvert_exporter": "python",
   "pygments_lexer": "ipython2",
   "version": "2.7.6"
  }
 },
 "nbformat": 4,
 "nbformat_minor": 0
}