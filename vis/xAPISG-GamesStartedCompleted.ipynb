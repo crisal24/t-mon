{
 "cells": [
  {
   "cell_type": "code",
   "execution_count": null,
   "outputs": [],
   "source": [
    "%run vis/xAPISG-noDataToFillVisualization.ipynb # notebook to create the visualisation with a message NoDataToFill"
   ],
   "metadata": {
    "collapsed": false,
    "pycharm": {
     "name": "#%%\n"
    }
   }
  },
  {
   "cell_type": "markdown",
   "source": [
    "***vis_games_started_completed* function**:\n",
    "\n",
    "* Input: players_info dictionary\n",
    "* Displays pie chart of games started and completed"
   ],
   "metadata": {
    "collapsed": false,
    "pycharm": {
     "name": "#%% md\n"
    }
   }
  },
  {
   "cell_type": "code",
   "execution_count": null,
   "outputs": [],
   "source": [
    "def vis_games_started_completed():\n",
    "    out=interactive(construct_vis_games_started_completed)\n",
    "    md_text = widgets.HTML(\"Pie chart with number of games started and completed\")\n",
    "    return widgets.VBox([md_text, out])\n",
    "    \n",
    "def construct_vis_games_started_completed():\n",
    "    #get alls players selected\n",
    "    playersSelected=checkboxesPlayersSelected.get_selected_options()\n",
    "    # count of games started and completed\n",
    "    games_started = 0\n",
    "    games_completed = 0\n",
    "\n",
    "    for key in playersSelected:\n",
    "        if players_info[key][\"game_started\"]:\n",
    "            if players_info[key][\"game_completed\"]:\n",
    "                games_completed +=1\n",
    "            else:\n",
    "                games_started += 1\n",
    "            \n",
    "    # pie chart of games started vs completed\n",
    "    labels = 'Started', 'Completed'\n",
    "    sizes = [games_started, games_completed]\n",
    "    if games_started!=0 or games_completed!=0:\n",
    "        plt.pie(sizes, labels=labels, autopct='%1.1f%%', startangle=90)\n",
    "        plt.legend(loc='center left', bbox_to_anchor=(1, 0.5))\n",
    "        plt.axis('equal')\n",
    "    else:\n",
    "        noDataToFillVis(10)\n",
    "        plt.xlim(0,1)\n",
    "    plt.title(\"Games started and completed\")\n",
    "    plt.show()\n"
   ],
   "metadata": {
    "collapsed": false,
    "pycharm": {
     "name": "#%%\n"
    }
   }
  }
 ],
 "metadata": {
  "kernelspec": {
   "display_name": "Python 3",
   "language": "python",
   "name": "python3"
  },
  "language_info": {
   "codemirror_mode": {
    "name": "ipython",
    "version": 3
   },
   "file_extension": ".py",
   "mimetype": "text/x-python",
   "name": "python",
   "nbconvert_exporter": "python",
   "pygments_lexer": "ipython3",
   "version": "3.7.6"
  }
 },
 "nbformat": 4,
 "nbformat_minor": 0
}