{
 "cells": [
  {
   "cell_type": "code",
   "execution_count": null,
   "metadata": {
    "collapsed": true
   },
   "outputs": [],
   "source": [
    "%run vis/xAPISG-noDataToFillVisualization.ipynb # notebook to create the visualisation with a message NoDataToFill\n",
    "%run vis/helpersFunctions/barCharts.ipynb\n",
    "%run vis/helpersFunctions/OrderGraphValuesAndSelectDataByXaxis.ipynb"
   ]
  },
  {
   "cell_type": "markdown",
   "source": [
    "***vis_correct_incorrect_question* function**:\n",
    "* Input: players_info dictionary\n",
    "* Displays bar chart showing the total number of correct and incorrect alternatives selected by players in each multiple-choice question"
   ],
   "metadata": {
    "collapsed": false
   }
  },
  {
   "cell_type": "code",
   "execution_count": 1,
   "outputs": [],
   "source": [
    "outputResPerAlt=widgets.Output()\n",
    "def vis_correct_incorrect_question():\n",
    "    out=interactive(correct_incorrect_question,\n",
    "            #constructing a dropdown to select how many data we want to see in visualisations for x axis\n",
    "            xaxis=widgets.Dropdown(options=[('All datas',0),('5 per visualisation',5),('25 per visualisation',25),('50 per visualisation',50),('10 first',-1),('10 last',-2)],\n",
    "                                description='x axe',\n",
    "                                disabled=False),\n",
    "             #constructing a dropdown to order for alphabetic keys or for values\n",
    "            order=widgets.Dropdown(options=[('alphabetic',0),('value from highest to lowest',1),('value from lowest to highest',-1)],\n",
    "                                description='Order',\n",
    "                                disabled=False),\n",
    "             percentagePerAlternative=False,\n",
    "             orderLabelValues=[(\"Order by all true and false responses values\",0),\n",
    "                               (\"Order by true responses values\",\"true\"),\n",
    "                               (\"Order by false responses values\",\"false\")])\n",
    "    md_text=widgets.HTML(\"<h4>Bar chart with number of correct and incorrect answers per question (alternative)</h4>\")\n",
    "    with outputResPerAlt:\n",
    "        print(\"Updating visualisation with the current selection of players and alternatives...\")\n",
    "    return widgets.VBox([md_text,out, outputResPerAlt])\n",
    "\n",
    "def correct_incorrect_question(xaxis, order,percentagePerAlternative, orderLabelValues):\n",
    "    #get all players selected\n",
    "    playersSelected=checkboxesPlayersSelected.get_selected_options()\n",
    "    alternatives_list_selected=checkboxesAlternativeSelected.get_selected_options()\n",
    "    # alternatives correct and incorrect responses\n",
    "    true_false_per_alternative = {}\n",
    "    alt_max=0\n",
    "    if len(alternatives_list_selected)>0:\n",
    "        for alt in alternatives_list_selected:\n",
    "            true_false_per_alternative[alt] = {}\n",
    "            alt_true = 0\n",
    "            alt_false = 0\n",
    "            for player in playersSelected:\n",
    "                if alt in players_info[player][\"alternatives\"].keys():\n",
    "                    _, results = zip(*players_info[player][\"alternatives\"][alt])\n",
    "                    alt_true += results.count(\"True\") +results.count(True)\n",
    "                    alt_false += results.count(\"False\") +results.count(False)\n",
    "                    if alt_true+alt_false>alt_max:\n",
    "                        alt_max=alt_true+alt_false\n",
    "            true_false_per_alternative[alt][\"true\"]=alt_true\n",
    "            true_false_per_alternative[alt][\"false\"]=alt_false\n",
    "        alt_max+=0.5\n",
    "    if orderLabelValues==0:\n",
    "        lambdafunc=lambda item:item[1][\"true\"]+item[1][\"false\"]\n",
    "    else:\n",
    "        lambdafunc=lambda item:item[1][orderLabelValues]\n",
    "    true_false_per_alternative = orderDict(true_false_per_alternative,order,lambdafunc)\n",
    "    nbgraphshown, true_false_per_alternative,N = organizeDictPerxAxisSelected(playersSelected,xaxis, true_false_per_alternative)\n",
    "    for n in range(nbgraphshown):\n",
    "        true_per_alternative=[true_false_per_alternative[n][alt][\"true\"] for alt in true_false_per_alternative[n].keys()]\n",
    "        false_per_alternative=[true_false_per_alternative[n][alt][\"false\"] for alt in true_false_per_alternative[n].keys()]\n",
    "        list_alt=[alt for alt in true_false_per_alternative[n].keys()]\n",
    "        if n<nbgraphshown-1:\n",
    "            ind = np.arange(N)\n",
    "        else:\n",
    "            ind = np.arange(len(list_alt))\n",
    "        if percentagePerAlternative:\n",
    "            if len(list_alt)>0:\n",
    "                # Bar chart showing the total percentage of incorrect alternatives\n",
    "                # selected by players in each multiple-choice question\n",
    "                get_percentage_bar(true_per_alternative,false_per_alternative,list_alt)\n",
    "            else:\n",
    "                noDataToFillVis(10)\n",
    "            ylabel=\"Percentage of good response\"\n",
    "            title=\"Percentage of good response per alternative\"\n",
    "        else:\n",
    "            if len(list_alt)>0:\n",
    "                # Bar chart showing the total number of correct and incorrect alternatives\n",
    "                # selected by players in each multiple-choice question\n",
    "                get_two_superposed_values_bars(ind,list_alt,\n",
    "                               true_per_alternative, \"Correct\",'g',\n",
    "                               false_per_alternative, \"Incorrect\",'r')\n",
    "            else:\n",
    "                noDataToFillVis(10)\n",
    "            ylabel=\"Number of response\"\n",
    "            title=\"Number of correct and incorrect response per alternative\"\n",
    "        plt.xlabel(\"Alternative\")\n",
    "        plt.ylabel(ylabel)\n",
    "        plt.title(title)\n",
    "        plt.show()\n",
    "    with outputResPerAlt:\n",
    "        clear_output(wait=False)"
   ],
   "metadata": {
    "collapsed": false,
    "pycharm": {
     "name": "#%%\n",
     "is_executing": false
    }
   }
  }
 ],
 "metadata": {
  "kernelspec": {
   "display_name": "Python 3",
   "language": "python",
   "name": "python3"
  },
  "language_info": {
   "codemirror_mode": {
    "name": "ipython",
    "version": 2
   },
   "file_extension": ".py",
   "mimetype": "text/x-python",
   "name": "python",
   "nbconvert_exporter": "python",
   "pygments_lexer": "ipython2",
   "version": "2.7.6"
  }
 },
 "nbformat": 4,
 "nbformat_minor": 0
}