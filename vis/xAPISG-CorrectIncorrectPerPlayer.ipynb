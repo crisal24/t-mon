{
 "cells": [
  {
   "cell_type": "code",
   "execution_count": null,
   "metadata": {
    "collapsed": true
   },
   "outputs": [],
   "source": [
    "%run vis/xAPISG-noDataToFillVisualization.ipynb # notebook to create the visualisation with a message NoDataToFill\n",
    "%run vis/helpersFunctions/barCharts.ipynb\n",
    "%run vis/helpersFunctions/OrderGraphValuesAndSelectDataByXaxis.ipynb"
   ]
  },
  {
   "cell_type": "markdown",
   "source": [
    "***vis_correct_incorrect_player* function**:\n",
    "* Input: players_info dictionary\n",
    "* Displays bar chart showing for each user the number of correct and incorrect alternatives selected in multiple-choice questions"
   ],
   "metadata": {
    "collapsed": false
   }
  },
  {
   "cell_type": "code",
   "execution_count": 1,
   "outputs": [],
   "source": [
    "outputAltPerPlayer=widgets.Output()\n",
    "def vis_correct_incorrect_player():\n",
    "    out=interactive(construct_correct_incorrect_player,\n",
    "             #constructing a dropdown to select how many data we want to see in visualisations for x axis\n",
    "            xaxis=widgets.Dropdown(options=[('All datas',0),('5 per visualisation',5),('25 per visualisation',25),('50 per visualisation',50),('10 first',-1),('10 last',-2)],\n",
    "                                description='x axe',\n",
    "                                disabled=False),\n",
    "             #constructing a dropdown to order for alphabetic keys or for values\n",
    "            order=widgets.Dropdown(options=[('alphabetic',0),('value from highest to lowest',1),('value from lowest to highest',-1)],\n",
    "                                description='Order',\n",
    "                                disabled=False),\n",
    "             percentagePerPlayer=False,\n",
    "             orderLabelValues=[(\"Order by all true and false responses values\",0),\n",
    "                               (\"Order by true responses values\",\"true\"),\n",
    "                               (\"Order by false responses values\",\"false\")])\n",
    "    md_text=widgets.HTML(\"<h4>Bar chart with number of correct and incorrect answers per player</h4>\")\n",
    "    with outputAltPerPlayer:\n",
    "        print(\"Updating visualisation with the current selection of players and alternatives...\")\n",
    "    return widgets.VBox([md_text,out, outputAltPerPlayer])\n",
    "\n",
    "def construct_correct_incorrect_player(xaxis,order, percentagePerPlayer, orderLabelValues):\n",
    "    #get all players selected\n",
    "    playersSelected=checkboxesPlayersSelected.get_selected_options()\n",
    "    alternatives_list_selected=checkboxesAlternativeSelected.get_selected_options()\n",
    "    true_false_per_player = {}\n",
    "    total_max=0\n",
    "    empty=True\n",
    "    for player in playersSelected:\n",
    "        true_false_per_player[player]={}\n",
    "        if len(players_info[player][\"alternatives\"].keys())>0:\n",
    "            total_true = 0\n",
    "            total_false = 0\n",
    "            for alt in alternatives_list_selected:\n",
    "                _, results = zip(*players_info[player][\"alternatives\"][alt]) # take only T/F result values\n",
    "                total_true += results.count(\"True\") + results.count(True)\n",
    "                total_false += results.count(\"False\") +results.count(False)\n",
    "                if total_true+total_false>total_max:\n",
    "                    total_max=total_true+total_false\n",
    "            true_false_per_player[player][\"true\"]=total_true\n",
    "            true_false_per_player[player][\"false\"]=total_false\n",
    "            empty=False\n",
    "        else:\n",
    "            true_false_per_player[player][\"true\"]=0\n",
    "            true_false_per_player[player][\"false\"]=0\n",
    "    total_max+=0.5\n",
    "    if orderLabelValues==0:\n",
    "        lambdafunc=lambda item:item[1][\"true\"]+item[1][\"false\"]\n",
    "    else:\n",
    "        lambdafunc=lambda item:item[1][orderLabelValues]\n",
    "    true_false_per_player = orderDict(true_false_per_player,order,lambdafunc)\n",
    "    nbgraphshown, true_false_per_player,N = organizeDictPerxAxisSelected(playersSelected,xaxis, true_false_per_player)\n",
    "    for n in range(nbgraphshown):\n",
    "        if not empty:\n",
    "            true_per_player=[true_false_per_player[n][player][\"true\"] for player in true_false_per_player[n].keys()]\n",
    "            false_per_player=[true_false_per_player[n][player][\"false\"] for player in true_false_per_player[n].keys()]\n",
    "            list_player=[player for player in true_false_per_player[n].keys()]\n",
    "            if n<nbgraphshown-1:\n",
    "                ind = np.arange(N)\n",
    "            else:\n",
    "                ind = np.arange(len(list_player))\n",
    "        if percentagePerPlayer:\n",
    "            # Bar chart showing for each user the percentage of incorrect alternatives\n",
    "            # selected in multiple-choice questions\n",
    "            if not empty:\n",
    "                get_percentage_bar(true_per_player,false_per_player, list_player)\n",
    "            else:\n",
    "                noDataToFillVis(10)\n",
    "            ylabel=\"percentage of good response\"\n",
    "            title=\"Percentage of good responses per player\"\n",
    "        else:\n",
    "            # Bar chart showing for each user the number of correct and incorrect alternatives\n",
    "            # selected in multiple-choice questions\n",
    "            if not empty:\n",
    "                get_two_superposed_values_bars(ind,list_player,\n",
    "                                           true_per_player, \"Correct\",'g',\n",
    "                                           false_per_player, \"Incorrect\",'r')\n",
    "            else:\n",
    "                noDataToFillVis(10)\n",
    "            ylabel=\"Number of response\"\n",
    "            title=\"Correct and incorrect responses per player\"\n",
    "        plt.ylabel(ylabel)\n",
    "        plt.xlabel(\"Player\")\n",
    "        plt.xticks(rotation=90)\n",
    "        plt.title(title)\n",
    "        plt.show()\n",
    "    with outputAltPerPlayer:\n",
    "        clear_output(wait=False)"
   ],
   "metadata": {
    "collapsed": false,
    "pycharm": {
     "name": "#%%\n",
     "is_executing": false
    }
   }
  }
 ],
 "metadata": {
  "kernelspec": {
   "display_name": "Python 3",
   "language": "python",
   "name": "python3"
  },
  "language_info": {
   "codemirror_mode": {
    "name": "ipython",
    "version": 2
   },
   "file_extension": ".py",
   "mimetype": "text/x-python",
   "name": "python",
   "nbconvert_exporter": "python",
   "pygments_lexer": "ipython2",
   "version": "2.7.6"
  }
 },
 "nbformat": 4,
 "nbformat_minor": 0
}