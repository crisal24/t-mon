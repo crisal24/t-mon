{
 "cells": [
  {
   "cell_type": "code",
   "execution_count": null,
   "outputs": [],
   "source": [
    "%run vis/xAPISG-noDataToFillVisualization.ipynb # notebook to create the visualisation with a message NoDataToFill\n",
    "%run vis/helpersFunctions/barCharts.ipynb\n",
    "%run vis/helpersFunctions/OrderGraphValuesAndSelectDataByXaxis.ipynb"
   ],
   "metadata": {
    "collapsed": false,
    "pycharm": {
     "name": "#%%\n"
    }
   }
  },
  {
   "cell_type": "markdown",
   "metadata": {
    "pycharm": {
     "name": "#%% md\n"
    }
   },
   "source": [
    "***vis_alternatives_selected_question* function**:\n",
    "* Input: players_info dictionary \n",
    "* Displays bar chart showing the alternatives selcted in each multiple-choice question"
   ]
  },
  {
   "cell_type": "code",
   "execution_count": null,
   "outputs": [],
   "source": [
    "outputAlternativeQuestion=widgets.Output()\n",
    "def vis_alternatives_selected_question ():\n",
    "    out=interactive(alternatives_selected_question,\n",
    "                       #constructing a dropdown to order for alphabetic keys or for values\n",
    "                        order=widgets.Dropdown(options=[('alphabetic',0),('value from highest to lowest',1),('value from lowest to highest',-1)],\n",
    "                                description='Order',\n",
    "                                disabled=False))\n",
    "    md_text=widgets.HTML(\"<h4>Bar chart per question, with number of times each alternative has been selected</h4>\")\n",
    "    with outputAlternativeQuestion:\n",
    "        print(\"Updating visualisation with the current selection of players and alternatives...\")\n",
    "    return widgets.VBox([md_text,out, outputAlternativeQuestion])\n",
    "\n",
    "def alternatives_selected_question(order):\n",
    "    #get all players selected\n",
    "    playersSelected=checkboxesPlayersSelected.get_selected_options()\n",
    "    alternatives_list_selected=checkboxesAlternativeSelected.get_selected_options()\n",
    "    # responses per alternative\n",
    "    selected_per_alternative = {}\n",
    "    total_max=[]\n",
    "    i=0\n",
    "    for alt in alternatives_list_selected:\n",
    "        selected = []\n",
    "        total_max.insert(i, 0)\n",
    "        for player in playersSelected:\n",
    "            if alt in players_info[player][\"alternatives\"].keys():\n",
    "                alternative, _ = zip(*players_info[player][\"alternatives\"][alt])\n",
    "                alternative=list(alternative)\n",
    "                selected.extend(alternative)\n",
    "        selected_per_alternative[alt] = Counter(selected)\n",
    "        for res in selected_per_alternative[alt].values():\n",
    "            if res>total_max[i]:\n",
    "                total_max[i]=res\n",
    "        total_max[i]+=0.5\n",
    "        i+=1\n",
    "        \n",
    "    #Good answer per alternative\n",
    "    goodAnswer={}\n",
    "    for player in players_info.keys():\n",
    "        for alt in players_info[player][\"alternatives\"].keys():\n",
    "            if not alt in goodAnswer.keys():\n",
    "                goodAnswer[alt]=[]\n",
    "            for (answer, success) in players_info[player][\"alternatives\"][alt]:\n",
    "                if success in ['True', True]:\n",
    "                    goodAnswer[alt].append(answer)\n",
    "    \n",
    "    # Multiple bar chart showing the alternatives selected in each multiple-choice question.\n",
    "    number_of_plots = len(selected_per_alternative)\n",
    "    selected_per_alternative = orderDictByDictValues(selected_per_alternative,order)\n",
    "    if number_of_plots>1:\n",
    "        fig, axs = plt.subplots(number_of_plots)\n",
    "        i=0\n",
    "        for key in selected_per_alternative.keys():\n",
    "            axs[i].bar(range(len(selected_per_alternative[key])), \n",
    "                       selected_per_alternative[key].values(), \n",
    "                       tick_label=list(selected_per_alternative[key].keys()))\n",
    "            axs[i].set_title('Responses selected to question '+key)\n",
    "            axs[i].set_ylim(0,total_max[i])\n",
    "            axs[i].set_yticks(np.arange(0, total_max[i], 1))\n",
    "            j=0\n",
    "            for answer in selected_per_alternative[key].keys():\n",
    "                if answer in goodAnswer[key]:\n",
    "                    axs[i].get_children()[j].set_color('g')\n",
    "                else:\n",
    "                    axs[i].get_children()[j].set_color('r')\n",
    "                j+=1\n",
    "            axs[i].set(xlabel=\"Responses selected\", ylabel=\"Number of responses\")\n",
    "            i += 1\n",
    "    else: \n",
    "        if number_of_plots==1:\n",
    "            for key in selected_per_alternative.keys(): #only one key\n",
    "                barlist=plt.bar(range(len(selected_per_alternative[key])), \n",
    "                       selected_per_alternative[key].values(), \n",
    "                       tick_label=list(selected_per_alternative[key].keys()))\n",
    "                plt.title('Responses selected to question '+key)\n",
    "                j=0\n",
    "                for answer in selected_per_alternative[key].keys():\n",
    "                    if answer in goodAnswer[key]:\n",
    "                        barlist[j].set_color('g')\n",
    "                    else:\n",
    "                        barlist[j].set_color('r')\n",
    "                    j+=1\n",
    "            plt.yticks(np.arange(0, total_max[0], 1))\n",
    "            plt.ylim(0,total_max[0])\n",
    "        else:\n",
    "            noDataToFillVis(100)\n",
    "            plt.title(\"Responses selected to question\")\n",
    "        plt.xlabel(\"Responses selected\")\n",
    "        plt.ylabel(\"Number of responses\")\n",
    "    plt.tight_layout()\n",
    "    plt.show()\n",
    "    with outputAlternativeQuestion:\n",
    "        clear_output(wait=False)"
   ],
   "metadata": {
    "collapsed": false,
    "pycharm": {
     "name": "#%%\n"
    }
   }
  }
 ],
 "metadata": {
  "kernelspec": {
   "display_name": "Python 3",
   "language": "python",
   "name": "python3"
  },
  "language_info": {
   "codemirror_mode": {
    "name": "ipython",
    "version": 3
   },
   "file_extension": ".py",
   "mimetype": "text/x-python",
   "name": "python",
   "nbconvert_exporter": "python",
   "pygments_lexer": "ipython3",
   "version": "3.7.6"
  }
 },
 "nbformat": 4,
 "nbformat_minor": 4
}