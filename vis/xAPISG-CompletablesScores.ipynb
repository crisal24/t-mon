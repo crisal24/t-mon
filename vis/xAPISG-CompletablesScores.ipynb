{
 "cells": [
  {
   "cell_type": "code",
   "execution_count": null,
   "outputs": [],
   "source": [
    "%run vis/xAPISG-noDataToFillVisualization.ipynb # notebook to create the visualisation with a message NoDataToFill\n",
    "%run vis/helpersFunctions/barCharts.ipynb\n",
    "%run vis/helpersFunctions/OrderGraphValuesAndSelectDataByXaxis.ipynb"
   ],
   "metadata": {
    "collapsed": false,
    "pycharm": {
     "name": "#%%\n"
    }
   }
  },
  {
   "cell_type": "markdown",
   "metadata": {
    "pycharm": {
     "name": "#%% md\n"
    }
   },
   "source": [
    "***vis_completables_scores* function**:\n",
    "* Input: players_info dictionary \n",
    "* Displays bar chart showing the score achieved by players in the different completables"
   ]
  },
  {
   "cell_type": "code",
   "execution_count": 2,
   "outputs": [],
   "source": [
    "def vis_completables_scores():\n",
    "    out=interactive(getAllsScorePerCompletable,\n",
    "                       xaxis=xaxis,\n",
    "                       order=order,\n",
    "                        xaxisPerCompletable=True)\n",
    "\n",
    "    md_text=widgets.HTML(\"Bar chart with scores of players in each completable\")\n",
    "    return widgets.VBox([md_text,out])\n",
    "\n",
    "def getAllsScorePerCompletable(xaxis, order, xaxisPerCompletable):\n",
    "    #get alls players selected\n",
    "    playersSelected=checkboxesPlayersSelected.get_selected_options()\n",
    "    completableSelected=getSublistSelectedFromUnionListSelected(completable_score_list, checkboxesCompletableSelected.get_selected_options())\n",
    "    players_scores = {}\n",
    "    for player in playersSelected:\n",
    "        if players_info[player][\"completables_scores\"] != []:\n",
    "            for c in completableSelected:\n",
    "                if not c in players_scores.keys():\n",
    "                    players_scores[c]={}\n",
    "                if c in players_info[player][\"completables_scores\"].keys():\n",
    "                    try:\n",
    "                        players_scores[c][player] = int(players_info[player][\"completables_scores\"][c])\n",
    "                    except:\n",
    "                        players_scores[c][player] = 0\n",
    "                        for value in players_info[player][\"completables_scores\"][c].values():\n",
    "                            players_scores[c][player]+=value\n",
    "                else:\n",
    "                    players_scores[c][player] = 0\n",
    "    ordered_scores = orderDictByDictValues(players_scores,order)\n",
    "    if xaxisPerCompletable:\n",
    "        pos, bar_width = getPosDictMultiBarChart(ordered_scores,playersSelected)\n",
    "    if not xaxisPerCompletable:\n",
    "        pos, bar_width = getPosDictMultiBarChart(ordered_scores,playersSelected, xaxis)\n",
    "        players_scores = reorganiseDictBySubKeys(players_scores)\n",
    "    nbgraphshown, players_scores, N = organizeDictPerxAxisSelected(completableSelected,xaxis,players_scores)\n",
    "    if xaxisPerCompletable:\n",
    "        pos = organizeDictPosPerDataxaxis(xaxis,pos)\n",
    "    else:\n",
    "        pos = organizeDictPosPerDataLabels(xaxis,pos)\n",
    "    for n in range(nbgraphshown):\n",
    "        n_groups = len(players_scores[n])\n",
    "        if xaxisPerCompletable:\n",
    "            players_scores[n] = reorganiseDictBySubKeys(players_scores[n])\n",
    "        if n_groups>0:\n",
    "            constructMultiBarWithVerticalLines(players_scores,n,completableSelected,pos, bar_width, N, xaxisPerCompletable)\n",
    "        else:\n",
    "            noDataToFillVis(100)\n",
    "        plt.xlabel(\"Completable\")\n",
    "        plt.ylabel(\"Score\")\n",
    "        plt.xticks(rotation=90)\n",
    "        plt.title(\"Scores of players per completable\")\n",
    "        plt.show()"
   ],
   "metadata": {
    "collapsed": false,
    "pycharm": {
     "name": "#%%\n",
     "is_executing": false
    }
   }
  },
  {
   "cell_type": "code",
   "execution_count": null,
   "outputs": [],
   "source": [],
   "metadata": {
    "collapsed": false,
    "pycharm": {
     "name": "#%%"
    }
   }
  }
 ],
 "metadata": {
  "kernelspec": {
   "display_name": "Python 3",
   "language": "python",
   "name": "python3"
  },
  "language_info": {
   "codemirror_mode": {
    "name": "ipython",
    "version": 3
   },
   "file_extension": ".py",
   "mimetype": "text/x-python",
   "name": "python",
   "nbconvert_exporter": "python",
   "pygments_lexer": "ipython3",
   "version": "3.7.6"
  }
 },
 "nbformat": 4,
 "nbformat_minor": 4
}