{
 "cells": [
  {
   "cell_type": "code",
   "execution_count": null,
   "outputs": [],
   "source": [
    "%run vis/xAPISG-noDataToFillVisualization.ipynb # notebook to create the visualisation with a message NoDataToFill\n",
    "%run vis/helpersFunctions/barCharts.ipynb\n",
    "%run vis/helpersFunctions/OrderGraphValuesAndSelectDataByXaxis.ipynb"
   ],
   "metadata": {
    "collapsed": false,
    "pycharm": {
     "name": "#%%\n"
    }
   }
  },
  {
   "cell_type": "markdown",
   "metadata": {
    "pycharm": {
     "name": "#%% md\n"
    }
   },
   "source": [
    "***vis_completables_scores* function**:\n",
    "* Input: players_info dictionary \n",
    "* Displays bar chart showing the score achieved by players in the different completables"
   ]
  },
  {
   "cell_type": "code",
   "execution_count": 2,
   "outputs": [],
   "source": [
    "outputCompletableScore=widgets.Output()\n",
    "def vis_completables_scores():\n",
    "    out=interactive(getAllScorePerCompletable,\n",
    "                       #constructing a dropdown to select how many data we want to see in visualisations for x axis\n",
    "                      xaxis=widgets.Dropdown(options=[('All datas',0),('5 per visualisation',5),('25 per visualisation',25),('50 per visualisation',50),('10 first',-1),('10 last',-2)],\n",
    "                                description='x axe',\n",
    "                                disabled=False),\n",
    "                       #constructing a dropdown to order for alphabetic keys or for values\n",
    "                        order=widgets.Dropdown(options=[('alphabetic',0),('value from highest to lowest',1),('value from lowest to highest',-1)],\n",
    "                                description='Order',\n",
    "                                disabled=False))\n",
    "    md_text=widgets.HTML(\"<h4>Bar chart with scores of players in each completable</h4>\")\n",
    "    with outputCompletableScore:\n",
    "        print(\"Updating visualisation with the current selection of players and completables...\")\n",
    "    return widgets.VBox([md_text,out, outputCompletableScore])\n",
    "\n",
    "def getAllScorePerCompletable(xaxis, order):\n",
    "    #get all players selected\n",
    "    playersSelected=checkboxesPlayersSelected.get_selected_options()\n",
    "    completableSelected=getSublistSelectedFromUnionListSelected(completable_score_list,\n",
    "                                                                checkboxesCompletableSelected.get_selected_options())\n",
    "    players_scores = {}\n",
    "    for player in playersSelected:\n",
    "        if players_info[player][\"completables_scores\"] != []:\n",
    "            for c in completableSelected:\n",
    "                if not c in players_scores.keys():\n",
    "                    players_scores[c]={}\n",
    "                if c in players_info[player][\"completables_scores\"].keys():\n",
    "                    try:\n",
    "                        players_scores[c][player] = int(players_info[player][\"completables_scores\"][c])\n",
    "                    except:\n",
    "                        players_scores[c][player] = 0\n",
    "                        for value in players_info[player][\"completables_scores\"][c].values():\n",
    "                            players_scores[c][player]+=value\n",
    "                else:\n",
    "                    players_scores[c][player] = 0\n",
    "    ordered_scores = orderDictByDictValues(players_scores,order)\n",
    "    pos, bar_width = getPosDictMultiBarChart(ordered_scores,playersSelected)\n",
    "    nbgraphshown, players_scores, N = organizeDictPerxAxisSelected(completableSelected,xaxis,\n",
    "                                                                   players_scores)\n",
    "    pos = organizeDictPosPerDataxaxis(xaxis,pos)\n",
    "    for n in range(nbgraphshown):\n",
    "        n_groups = len(players_scores[n])\n",
    "        players_scores[n] = reorganiseDictBySubKeys(players_scores[n])\n",
    "        if len(completableSelected)>0 and len(playersSelected)>0:\n",
    "                constructMultiBarWithVerticalLines(players_scores,n,\n",
    "                                                   playersSelected, completableSelected,\n",
    "                                                   pos, bar_width, N)\n",
    "        else:\n",
    "            noDataToFillVis(100)\n",
    "        plt.xlabel(\"Completable\")\n",
    "        plt.ylabel(\"Score\")\n",
    "        plt.xticks(rotation=90)\n",
    "        plt.title(\"Scores of players per completable\")\n",
    "        plt.show()\n",
    "    with outputCompletableScore:\n",
    "        clear_output(wait=False)"
   ],
   "metadata": {
    "collapsed": false,
    "pycharm": {
     "name": "#%%\n",
     "is_executing": false
    }
   }
  }
 ],
 "metadata": {
  "kernelspec": {
   "display_name": "Python 3",
   "language": "python",
   "name": "python3"
  },
  "language_info": {
   "codemirror_mode": {
    "name": "ipython",
    "version": 3
   },
   "file_extension": ".py",
   "mimetype": "text/x-python",
   "name": "python",
   "nbconvert_exporter": "python",
   "pygments_lexer": "ipython3",
   "version": "3.7.6"
  }
 },
 "nbformat": 4,
 "nbformat_minor": 4
}