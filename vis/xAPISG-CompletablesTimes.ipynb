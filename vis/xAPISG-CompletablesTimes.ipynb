{
 "cells": [
  {
   "cell_type": "code",
   "execution_count": null,
   "outputs": [],
   "source": [
    "%run vis/xAPISG-noDataToFillVisualization.ipynb # notebook to create the visualisation with a message NoDataToFill\n",
    "%run vis/helpersFunctions/OrderGraphValuesAndSelectDataByXaxis.ipynb\n",
    "%run vis/helpersFunctions/barCharts.ipynb"
   ],
   "metadata": {
    "collapsed": false,
    "pycharm": {
     "name": "#%%\n"
    }
   }
  },
  {
   "cell_type": "markdown",
   "metadata": {
    "pycharm": {
     "name": "#%% md\n"
    }
   },
   "source": [
    "***vis_completables_times* function**:\n",
    "* Input: players_info dictionary\n",
    "* Displays bar chart showing for each completable the maximum, minimum and mean time of completion by players"
   ]
  },
  {
   "cell_type": "code",
   "execution_count": null,
   "outputs": [],
   "source": [
    "outputCompletableTime=widgets.Output()\n",
    "def vis_completables_times():\n",
    "    # find full list of completables\n",
    "    out=interactive(construct_completable_time_bar_chart,\n",
    "                        #constructing a dropdown to select how many data we want to see in visualisations for x axis\n",
    "                      xaxis=widgets.Dropdown(options=[('All datas',0),('5 per visualisation',5),('25 per visualisation',25),('50 per visualisation',50),('10 first',-1),('10 last',-2)],\n",
    "                                description='x axe',\n",
    "                                disabled=False))\n",
    "    md_text=widgets.HTML(\"<h4>Bar chart with max and min completion time in each completable</h4>\")\n",
    "    with outputCompletableTime:\n",
    "        print(\"Updating visualisation with the current selection of players and completables...\")\n",
    "    return widgets.VBox([md_text,out, outputCompletableTime])\n",
    "    \n",
    "def construct_completable_time_bar_chart(xaxis):\n",
    "    #get all players selected\n",
    "    playersSelected=checkboxesPlayersSelected.get_selected_options()\n",
    "    completablesSelectedCompletableTime=getSublistSelectedFromUnionListSelected(completables_times_list, checkboxesCompletableSelected.get_selected_options())\n",
    "    # max, min time per completable\n",
    "    max_times = []\n",
    "    min_times = []\n",
    "    for c in completablesSelectedCompletableTime:\n",
    "        maximum = 0\n",
    "        minimum = float('Inf')\n",
    "        for player in playersSelected:\n",
    "            if c in players_info[player][\"completables_times\"].keys():\n",
    "                times = players_info[player][\"completables_times\"][c]\n",
    "                try:\n",
    "                    if len(times)==2:\n",
    "                        end_time = times[1]\n",
    "                        start_time = times[0]\n",
    "                        raw_total_time = end_time-start_time\n",
    "                        total_time = raw_total_time.days*24*60+raw_total_time.seconds/60.0 # minutes\n",
    "                        # update values\n",
    "                        if total_time > maximum:\n",
    "                            maximum = total_time\n",
    "                        if total_time < minimum:\n",
    "                            minimum = total_time\n",
    "                except:\n",
    "                    pass\n",
    "        if minimum==float('Inf'):\n",
    "            minimum=maximum\n",
    "        max_times.append(maximum)\n",
    "        min_times.append(minimum)\n",
    "    N=len(completablesSelectedCompletableTime)\n",
    "    n_groups=N\n",
    "    if xaxis==0:  #getAllDataInAListOfList\n",
    "        completablesSelectedCompletableTime=[completablesSelectedCompletableTime]\n",
    "        min_times=[min_times]\n",
    "        max_times=[max_times]\n",
    "        nbgraphshown=1\n",
    "    elif xaxis==-1:  #getnbFirstData\n",
    "        nb=10\n",
    "        nbgraphshown=1\n",
    "        completablesSelectedCompletableTime=[completablesSelectedCompletableTime[:nb]]\n",
    "        max_times=[max_times[:nb]]\n",
    "        min_times=[min_times[:nb]]\n",
    "        if N>nb:\n",
    "            N=nb\n",
    "    elif xaxis==-2:  #getnbLastData\n",
    "        nb=10\n",
    "        nbgraphshown=1\n",
    "        completablesSelectedCompletableTime=[completablesSelectedCompletableTime[-nb:]]\n",
    "        max_times=[max_times[-nb:]]\n",
    "        min_times=[min_times[-nb:]]\n",
    "        if N>nb:\n",
    "            N=nb\n",
    "    else:   #getxaxisDataSeparatedInListOfLists\n",
    "        completablesSelectedCompletableTime=separateListToSubListEachXvalues(completablesSelectedCompletableTime,xaxis)\n",
    "        max_times=separateListToSubListEachXvalues(max_times, xaxis)\n",
    "        min_times=separateListToSubListEachXvalues(min_times, xaxis)\n",
    "        N=xaxis\n",
    "        nbgraphshown=len(max_times)\n",
    "    # Bar chart showing for each completable the maximum, minimum and mean time of completion by players.\n",
    "    for n in range(nbgraphshown):\n",
    "        if n_groups>0 :\n",
    "            if n<nbgraphshown-1:\n",
    "                index = np.arange(N)\n",
    "            else:\n",
    "                index = np.arange(len(completablesSelectedCompletableTime[n]))\n",
    "            bar_width = 0.35\n",
    "            times=[max_times,min_times]\n",
    "            labels=['max', 'min']\n",
    "            max=0\n",
    "            for t in times[0][n]:\n",
    "                if t>max:\n",
    "                    max=t\n",
    "            max+=2\n",
    "            for i in range(len(labels)):\n",
    "                bar=plt.bar(index+i*bar_width, times[i][n], bar_width, \n",
    "                        label=labels[i],\n",
    "                        tick_label=completablesSelectedCompletableTime[n])\n",
    "                ticks_label=completablesSelectedCompletableTime[n]\n",
    "                add_value_labels(bar)\n",
    "            plt.ylim(0,max)\n",
    "            plt.legend(loc='center left', bbox_to_anchor=(1, 0.5))\n",
    "            plt.gca().axes.set_xticks([x+bar_width/2 for x in range(len(ticks_label))])\n",
    "            plt.gca().axes.set_xticklabels(ticks_label)\n",
    "        else:\n",
    "            noDataToFillVis(100)\n",
    "        plt.xlabel(\"Completable\")\n",
    "        plt.ylabel(\"Completion time (in minutes)\")\n",
    "        plt.xticks(rotation=90)\n",
    "        plt.title(\"Max and min completion times per completable\")\n",
    "        plt.show()\n",
    "    with outputCompletableTime:\n",
    "        clear_output(wait=False)"
   ],
   "metadata": {
    "collapsed": false,
    "pycharm": {
     "name": "#%%\n"
    }
   }
  }
 ],
 "metadata": {
  "kernelspec": {
   "display_name": "Python 3",
   "language": "python",
   "name": "python3"
  },
  "language_info": {
   "codemirror_mode": {
    "name": "ipython",
    "version": 3
   },
   "file_extension": ".py",
   "mimetype": "text/x-python",
   "name": "python",
   "nbconvert_exporter": "python",
   "pygments_lexer": "ipython3",
   "version": "3.7.6"
  }
 },
 "nbformat": 4,
 "nbformat_minor": 4
}