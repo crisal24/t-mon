{
 "cells": [
  {
   "cell_type": "markdown",
   "metadata": {},
   "source": [
    "***vis_completables_progress* function**:\n",
    "* Input: players_info dictionary \n",
    "* Displays bar chart showing for each player the progress achieved in the different completables of the game as well as in the total game"
   ]
  },
  {
   "cell_type": "code",
   "execution_count": 1,
   "metadata": {},
   "outputs": [],
   "source": [
    "def vis_completables_progress (players_info):\n",
    "    # find full list of completables\n",
    "    completables=set()\n",
    "    for player in players_info.keys():\n",
    "        if players_info[player][\"completables_progress\"] != []:\n",
    "            completables = completables.union(players_info[player][\"completables_progress\"].keys())\n",
    "    completables = list(completables)\n",
    "\n",
    "    # progress of each player per completable\n",
    "    players_progress = []\n",
    "    for player in players_info.keys():\n",
    "        if players_info[player][\"completables_progress\"] != []:\n",
    "            player_progress = []\n",
    "            for c in completables:\n",
    "                if c in players_info[player][\"completables_progress\"].keys():\n",
    "                    height = players_info[player][\"completables_progress\"][c]\n",
    "                else:\n",
    "                    height = 0\n",
    "                player_progress.append(height)\n",
    "            players_progress.append(player_progress)\n",
    "            \n",
    "            \n",
    "    # Bar chart showing for each player the progress achieved in the different completables of the game as well as in the total game.\n",
    "\n",
    "    n_groups = len(completables)\n",
    "\n",
    "    fig, ax = plt.subplots()\n",
    "    index = np.arange(n_groups)\n",
    "    bar_width = 0.2\n",
    "    opacity = 0.8\n",
    "\n",
    "    for i in range(len(players_progress)):\n",
    "        plt.bar(index+i*bar_width, players_progress[i], bar_width, \n",
    "                label=list(players_info.keys())[i], \n",
    "                tick_label=completables)\n",
    "\n",
    "    plt.legend()\n",
    "    plt.xlabel(\"Completable\")\n",
    "    plt.ylabel(\"Progress\")\n",
    "    plt.ylim((0,1.05))\n",
    "    plt.title(\"Progress of players per completable\")\n",
    "    plt.show()"
   ]
  }
 ],
 "metadata": {
  "kernelspec": {
   "display_name": "Python 3",
   "language": "python",
   "name": "python3"
  },
  "language_info": {
   "codemirror_mode": {
    "name": "ipython",
    "version": 3
   },
   "file_extension": ".py",
   "mimetype": "text/x-python",
   "name": "python",
   "nbconvert_exporter": "python",
   "pygments_lexer": "ipython3",
   "version": "3.7.6"
  }
 },
 "nbformat": 4,
 "nbformat_minor": 4
}
