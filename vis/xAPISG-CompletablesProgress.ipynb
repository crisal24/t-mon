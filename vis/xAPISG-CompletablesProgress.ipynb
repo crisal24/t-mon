{
 "cells": [
  {
   "cell_type": "code",
   "execution_count": null,
   "outputs": [],
   "source": [
    "%run vis/xAPISG-noDataToFillVisualization.ipynb # notebook to create the visualisation with a message NoDataToFill\n",
    "%run vis/helpersFunctions/OrderGraphValuesAndSelectDataByXaxis.ipynb"
   ],
   "metadata": {
    "collapsed": false,
    "pycharm": {
     "name": "#%%\n"
    }
   }
  },
  {
   "cell_type": "markdown",
   "metadata": {
    "pycharm": {
     "name": "#%% md\n"
    }
   },
   "source": [
    "***vis_completables_progress* function**:\n",
    "* Input: players_info dictionary \n",
    "* Displays bar chart showing for each player the progress achieved in the different completables of the game as well as in the total game"
   ]
  },
  {
   "cell_type": "code",
   "execution_count": null,
   "outputs": [],
   "source": [
    "def vis_completables_progress():\n",
    "    out=interactive(getProgressPlayerPerCompletable,\n",
    "                      xaxis=xaxis,\n",
    "                      order=order,\n",
    "                    xaxisPerCompletable=True)\n",
    "    md_text=widgets.HTML(\"Bar chart with progress of players in each completable\")\n",
    "    return widgets.VBox([md_text,out])\n",
    "\n",
    "def getProgressPlayerPerCompletable(xaxis, xaxisPerCompletable, order):\n",
    "    #get alls players selected\n",
    "    playersSelected=checkboxesPlayersSelected.get_selected_options()\n",
    "    completableSelectedProgress=getSublistSelectedFromUnionListSelected(completable_progress_list, checkboxesCompletableSelected.get_selected_options())\n",
    "    completab={}\n",
    "    for player in playersSelected:\n",
    "        if not player in completab.keys():\n",
    "            completab[player]={}\n",
    "        if players_info[player][\"completables_progress\"] != {}:\n",
    "            for c in completableSelectedProgress:\n",
    "                if c in players_info[player][\"completables_progress\"].keys():\n",
    "                    completab[player][c]=players_info[player][\"completables_progress\"][c]\n",
    "                else:\n",
    "                    completab[player][c]=0\n",
    "    # progress of each player per completable\n",
    "    players_progress = {}\n",
    "    for player in completab.keys():\n",
    "        for c in completableSelectedProgress:\n",
    "            if not c in players_progress.keys():\n",
    "                players_progress[c] = {}\n",
    "            if c in completab[player].keys():\n",
    "                players_progress[c][player] = completab[player][c]*100\n",
    "            else:\n",
    "                players_progress[c][player] = 0\n",
    "    ordered_progress = orderDictByDictValues(players_progress,order)\n",
    "    pos, bar_width = getPosDictMultiBarChart(ordered_progress,playersSelected)\n",
    "    if not xaxisPerCompletable:\n",
    "        players_progress = reorganiseDictBySubKeys(players_progress)\n",
    "    nbgraphshown, players_progress,N = organizeDictPerxAxisSelected(completableSelectedProgress,xaxis,players_progress)\n",
    "    if xaxisPerCompletable:\n",
    "        pos = organizeDictPosPerDataxaxis(xaxis,pos)\n",
    "    else:\n",
    "        pos = organizeDictPosPerDataLabels(xaxis,pos)\n",
    "    for n in range(nbgraphshown):\n",
    "        n_groups = len(players_progress[n])\n",
    "        if xaxisPerCompletable:\n",
    "            players_progress[n] = reorganiseDictBySubKeys(players_progress[n])\n",
    "        if n_groups>0:\n",
    "            constructMultiBarWithVerticalLines(players_progress,n,\n",
    "                                               completableSelectedProgress,\n",
    "                                               pos, bar_width, N,\n",
    "                                               xaxisPerCompletable)\n",
    "        else:\n",
    "            noDataToFillVis(100, True)\n",
    "        plt.xlabel(\"Completable\")\n",
    "        plt.ylabel(\"Progress (in %)\")\n",
    "        plt.title(\"Progress of players per completable (in %)\")\n",
    "        plt.show()"
   ],
   "metadata": {
    "collapsed": false,
    "pycharm": {
     "name": "#%%\n"
    }
   }
  }
 ],
 "metadata": {
  "kernelspec": {
   "display_name": "Python 3",
   "language": "python",
   "name": "python3"
  },
  "language_info": {
   "codemirror_mode": {
    "name": "ipython",
    "version": 3
   },
   "file_extension": ".py",
   "mimetype": "text/x-python",
   "name": "python",
   "nbconvert_exporter": "python",
   "pygments_lexer": "ipython3",
   "version": "3.7.6"
  }
 },
 "nbformat": 4,
 "nbformat_minor": 4
}