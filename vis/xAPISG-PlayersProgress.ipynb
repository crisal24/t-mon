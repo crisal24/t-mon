{
 "cells": [
  {
   "cell_type": "code",
   "execution_count": null,
   "outputs": [],
   "source": [
    "%run vis/xAPISG-noDataToFillVisualization.ipynb # notebook to create the visualisation with a message NoDataToFill"
   ],
   "metadata": {
    "collapsed": false,
    "pycharm": {
     "name": "#%%\n"
    }
   }
  },
  {
   "cell_type": "markdown",
   "metadata": {},
   "source": [
    "***vis_players_progress* function**:\n",
    "* output : the outputPlayerProgress in a list to be display in a VBox\n",
    "* outputPlayerProgress : the line chart showing progress over time for each player"
   ]
  },
  {
   "cell_type": "code",
   "execution_count": 1,
   "metadata": {},
   "outputs": [],
   "source": [
    "def vis_players_progress():\n",
    "    with outputPlayerProgress:\n",
    "        clear_output(wait=False)\n",
    "        players_progress()\n",
    "        clear_output(wait=True)\n",
    "    return [outputPlayerProgressUpdate, outputPlayerProgress]"
   ]
  },
  {
   "cell_type": "markdown",
   "source": [
    "***vis_players_progress* function** displays line chart showing progress over time for each player"
   ],
   "metadata": {
    "collapsed": false
   }
  },
  {
   "cell_type": "code",
   "execution_count": null,
   "outputs": [],
   "source": [
    "def players_progress():\n",
    "    #close and clear previous fig of progress players\n",
    "    for fig in figPlayersProgress:\n",
    "        plt.close(fig=fig)\n",
    "    figPlayersProgress.clear()\n",
    "    #get player selected list\n",
    "    playersSelected=checkboxesPlayersSelected.get_selected_options()\n",
    "    empty=True\n",
    "    #create new fig with custom name in the tab of player progress figs\n",
    "    name=os.path.splitext(filename)[0]+\"_players_progress\"\n",
    "    fig = plt.figure(num=name, constrained_layout=True)\n",
    "    fig.canvas.header_visible = False\n",
    "    fig.canvas.layout.min_height = '400px'\n",
    "    figPlayersProgress.append(fig)\n",
    "    #display a linechart for each player\n",
    "    for player in players_info.keys():\n",
    "        if player in playersSelected:\n",
    "            if players_info[player][\"game_progress_per_time\"] != []:\n",
    "                #list of time and progress value\n",
    "                progress_time = list(zip(*players_info[player][\"game_progress_per_time\"]))\n",
    "                y = [i*100 for i in progress_time[0]]\n",
    "                x = progress_time[1]\n",
    "                plt.plot(x,y, label=player) # one line chart per player showing progress over time\n",
    "                empty=False\n",
    "    if not empty:\n",
    "        #legend graph and give a date format\n",
    "        plt.legend(loc='center left', bbox_to_anchor=(1, 0.5))\n",
    "        plt.gca().xaxis.set_major_formatter(mdates.DateFormatter('%H:%M:%S %d-%m-%y'))\n",
    "        plt.gca().xaxis.set_major_locator(mdates.MinuteLocator(interval=5))\n",
    "        plt.yticks(np.arange(0,101,10))\n",
    "    else:\n",
    "        #display not data to fill vis\n",
    "        noDataToFillVis(100)\n",
    "    #orient xticks\n",
    "    plt.xticks(rotation=45, ha=\"right\")\n",
    "    #add title and axes labels\n",
    "    plt.title(\"Progress (in %) of players by time\")\n",
    "    plt.ylabel('Progress (in %)')\n",
    "    plt.xlabel('Date')\n",
    "    plt.show()\n",
    "    with outputPlayerProgressUpdate:\n",
    "        clear_output(wait=False)"
   ],
   "metadata": {
    "collapsed": false,
    "pycharm": {
     "name": "#%%\n"
    }
   }
  }
 ],
 "metadata": {
  "kernelspec": {
   "display_name": "Python 3",
   "language": "python",
   "name": "python3"
  },
  "language_info": {
   "codemirror_mode": {
    "name": "ipython",
    "version": 3
   },
   "file_extension": ".py",
   "mimetype": "text/x-python",
   "name": "python",
   "nbconvert_exporter": "python",
   "pygments_lexer": "ipython3",
   "version": "3.7.6"
  }
 },
 "nbformat": 4,
 "nbformat_minor": 4
}