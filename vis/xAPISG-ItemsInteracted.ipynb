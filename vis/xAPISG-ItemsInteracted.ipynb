{
 "cells": [
  {
   "cell_type": "code",
   "execution_count": 0,
   "outputs": [],
   "source": [
    "%run vis/xAPISG-noDataToFillVisualization.ipynb # notebook to create the visualisation with a message NoDataToFill\n",
    "\n",
    "outputBarChartItem=widgets.Output()\n",
    "outputHeatMapItem=widgets.Output()\n",
    "\n",
    "def vis_items_interacted_times_interact():\n",
    "    md_text = widgets.HTML(\"<h4>MultiBar Item Interaction</h4>\")\n",
    "    multiBar=interactive(vis_items_interacted_times,\n",
    "            #constructing a dropdown to order for alphabetic keys or for values\n",
    "            order=widgets.Dropdown(options=[('alphabetic',0),('value from highest to lowest',1),('value from lowest to highest',-1)],\n",
    "                                description='Order',\n",
    "                                disabled=False))\n",
    "    with outputBarChartItem:\n",
    "        print(\"Updating visualisation with the current selection of players and items...\")\n",
    "    return widgets.VBox([md_text, multiBar,outputBarChartItem])\n",
    "\n",
    "def vis_items_interacted_times_heatmap_interacted():\n",
    "    md_text = widgets.HTML(\"<h4>Heatmap Item Interaction</h4>\")\n",
    "    heatMap=interactive(vis_items_interacted_times_heatMap)\n",
    "    with outputHeatMapItem:\n",
    "        print(\"Updating visualisation with the current selection of players and items...\")\n",
    "    return widgets.VBox([md_text, heatMap, outputHeatMapItem])"
   ],
   "metadata": {
    "collapsed": false,
    "pycharm": {
     "name": "#%%\n"
    }
   }
  },
  {
   "cell_type": "markdown",
   "source": [
    "***vis_items_interacted_times* function** displays bar chart showing for each item the number of use by players"
   ],
   "metadata": {
    "collapsed": false
   }
  },
  {
   "cell_type": "code",
   "execution_count": 2,
   "outputs": [],
   "source": [
    "%run vis/helpersFunctions/MultiBarSeparated.ipynb\n",
    "def vis_items_interacted_times(order):\n",
    "    playersSelected=checkboxesPlayersSelected.get_selected_options()\n",
    "    items=getSublistSelectedFromUnionListSelected(\n",
    "        item_interaction_list,\n",
    "        checkboxesItemInteractedSelected.get_selected_options()\n",
    "    )\n",
    "    nbitems=constructMultiTab(players_info, playersSelected, items, \"interactions\", True)\n",
    "    # Multiple bar chart showing the items selected for each personn.\n",
    "    if len(nbitems)>0:\n",
    "        display(multiBarSeparated(nbitems, order, \"Interaction with item \", \"Players\", \"Numbers of interaction\"))\n",
    "    else:\n",
    "        noDataToFillVis(10)\n",
    "        plt.title(\"Interaction with item\")\n",
    "        plt.xlabel(\"Players\")\n",
    "        plt.ylabel(\"Numbers of interaction\")\n",
    "        plt.show()\n",
    "    with outputBarChartItem:\n",
    "        clear_output(wait=False)"
   ],
   "metadata": {
    "collapsed": false,
    "pycharm": {
     "name": "#%%\n",
     "is_executing": false
    }
   }
  },
  {
   "cell_type": "markdown",
   "source": [
    "***vis_items_interacted_times_heatMap* function** displays heatMap showing for each item the number of use by players"
   ],
   "metadata": {
    "collapsed": false
   }
  },
  {
   "cell_type": "code",
   "execution_count": null,
   "outputs": [],
   "source": [
    "%run vis/helpersFunctions/HeatMap.ipynb\n",
    "def vis_items_interacted_times_heatMap():\n",
    "    label_players=checkboxesPlayersSelected.get_selected_options()\n",
    "    label_items=getSublistSelectedFromUnionListSelected(item_interaction_list, checkboxesItemInteractedSelected.get_selected_options())\n",
    "    nbitems=constructHeatMap(players_info, label_players, label_items, \"interactions\", True)\n",
    "    ## Now use the heatmap function to plot the results\n",
    "    if len(label_players)>0 and len(label_items)>0:\n",
    "        heatMap(nbitems, label_players, label_items)\n",
    "        font=len(label_items)\n",
    "    else:\n",
    "        noDataToFillVis(10)\n",
    "        font=10\n",
    "    plt.xlabel(\"Players\", fontsize=font)\n",
    "    plt.ylabel(\"Items\", fontsize=font)\n",
    "    plt.title(\"Heatmap showing interaction with item by players\", fontsize=font*1.5)\n",
    "    plt.show()\n",
    "    with outputHeatMapItem:\n",
    "        clear_output(wait=False)"
   ],
   "metadata": {
    "collapsed": false,
    "pycharm": {
     "name": "#%%\n"
    }
   }
  }
 ],
 "metadata": {
  "kernelspec": {
   "display_name": "Python 3",
   "language": "python",
   "name": "python3"
  },
  "language_info": {
   "codemirror_mode": {
    "name": "ipython",
    "version": 2
   },
   "file_extension": ".py",
   "mimetype": "text/x-python",
   "name": "python",
   "nbconvert_exporter": "python",
   "pygments_lexer": "ipython2",
   "version": "2.7.6"
  }
 },
 "nbformat": 4,
 "nbformat_minor": 0
}