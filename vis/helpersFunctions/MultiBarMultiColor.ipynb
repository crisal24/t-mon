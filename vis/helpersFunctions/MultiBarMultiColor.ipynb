{
 "cells": [
  {
   "cell_type": "markdown",
   "metadata": {
    "collapsed": true,
    "pycharm": {
     "name": "#%% md\n"
    }
   },
   "source": [
    "***constructDictWithKeyAndSubKey* function** to constuct the dictionary for the multibar\n",
    "\n",
    "Input :\n",
    "* players_info : dict with players\n",
    "* playersSelected : players selected\n",
    "* keys : labels for the construction\n",
    "* action : the action to have to search in players_info\n",
    "* typ : boolean if this action is divided in type or not\n",
    "\n",
    "Output:\n",
    "* dictionary: the dictionary with the values for the multibar"
   ]
  },
  {
   "cell_type": "code",
   "execution_count": null,
   "outputs": [],
   "source": [
    "def constructDictWithKeyAndSubKey(players_info, playersSelected, keys, action, typ=False):\n",
    "    dictionary={}\n",
    "    for key in keys:\n",
    "        dictionary[key]={}\n",
    "        for player in playersSelected:\n",
    "            if typ:\n",
    "                for type in players_info[player][action].keys():\n",
    "                    if key in players_info[player][action][type].keys():\n",
    "                        for sub_key in players_info[player][action][type][key]:\n",
    "                            if not sub_key in dictionary[key].keys():\n",
    "                                dictionary[key][sub_key]={}\n",
    "                            if not player in dictionary[key][sub_key].keys():\n",
    "                                dictionary[key][sub_key][player]=0\n",
    "                            dictionary[key][sub_key][player]+=len(players_info[player][action][type][key][sub_key])\n",
    "            else: \n",
    "                for sub_key in players_info[player][action][key]:\n",
    "                    if not sub_key in dictionary[key].keys():\n",
    "                        dictionary[key][sub_key]={}\n",
    "                    if not player in dictionary[key][sub_key].keys():\n",
    "                        dictionary[key][sub_key][player]=0\n",
    "                    dictionary[key][sub_key][player]+=len(players_info[player][action][key][sub_key])\n",
    "    return dictionary"
   ],
   "metadata": {
    "collapsed": false,
    "pycharm": {
     "name": "#%%\n"
    }
   }
  },
  {
   "cell_type": "markdown",
   "source": [
    "***multiBarMultiColor* function** to display the multibar with color\n",
    "\n",
    "Input :\n",
    "* dictionary :the dictionary with the values for the multibar\n",
    "* title : title of the multibar graph\n",
    "* xlabel : labels for the X axe\n",
    "* ylabel : labels for the Y axe\n",
    "\n",
    "Output: display the multibar"
   ],
   "metadata": {
    "collapsed": false
   }
  },
  {
   "cell_type": "code",
   "execution_count": null,
   "outputs": [],
   "source": [
    "%run vis/helpersFunctions/barCharts.ipynb\n",
    "def multiBarMultiColor(dictionary, title, xlabel, ylabel):\n",
    "    multiBar={}\n",
    "    for key in dictionary.keys():\n",
    "        multiBar[key]=widgets.Output()\n",
    "        with multiBar[key]:\n",
    "            multiBarSuperposed(dictionary[key],key, title, xlabel, ylabel)\n",
    "    tabs=widgets.Accordion(list(multiBar.values()))\n",
    "    i=0\n",
    "    for key in multiBar.keys():\n",
    "        tabs.set_title(i, key)\n",
    "        i+=1\n",
    "    return tabs"
   ],
   "metadata": {
    "collapsed": false,
    "pycharm": {
     "name": "#%%\n"
    }
   }
  }
 ],
 "metadata": {
  "kernelspec": {
   "display_name": "Python 3",
   "language": "python",
   "name": "python3"
  },
  "language_info": {
   "codemirror_mode": {
    "name": "ipython",
    "version": 2
   },
   "file_extension": ".py",
   "mimetype": "text/x-python",
   "name": "python",
   "nbconvert_exporter": "python",
   "pygments_lexer": "ipython2",
   "version": "2.7.6"
  }
 },
 "nbformat": 4,
 "nbformat_minor": 0
}