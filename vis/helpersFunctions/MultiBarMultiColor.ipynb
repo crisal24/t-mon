{
 "cells": [
  {
   "cell_type": "code",
   "execution_count": null,
   "metadata": {
    "collapsed": true
   },
   "outputs": [],
   "source": [
    "def constructDictWithKeyAndSubKey(players_info, playersSelected, keys, action, typ=False):\n",
    "    dictionnary={}\n",
    "    for key in keys:\n",
    "        dictionnary[key]={}\n",
    "        for player in playersSelected:\n",
    "            if typ:\n",
    "                for type in players_info[player][action].keys():\n",
    "                    if key in players_info[player][action][type].keys():\n",
    "                        for sub_key in players_info[player][action][type][key]:\n",
    "                            if not sub_key in dictionnary[key].keys():\n",
    "                                dictionnary[key][sub_key]={}\n",
    "                            if not player in dictionnary[key][sub_key].keys():\n",
    "                                dictionnary[key][sub_key][player]=0\n",
    "                            dictionnary[key][sub_key][player]+=len(players_info[player][action][type][key][sub_key])\n",
    "            else: \n",
    "                for sub_key in players_info[player][action][key]:\n",
    "                    if not sub_key in dictionnary[key].keys():\n",
    "                        dictionnary[key][sub_key]={}\n",
    "                    if not player in dictionnary[key][sub_key].keys():\n",
    "                        dictionnary[key][sub_key][player]=0\n",
    "                    dictionnary[key][sub_key][player]+=len(players_info[player][action][key][sub_key])\n",
    "    return dictionnary\n",
    "\n",
    "%run vis/HelpersFunctions/barCharts.ipynb\n",
    "def multiBarMultiColor(dictionary, title, xlabel, ylabel):\n",
    "    multiBar={}\n",
    "    for key in dictionary.keys():\n",
    "        #dictionary[key]=orderDict(dictionary[key],order)\n",
    "        multiBar[key]=widgets.Output()\n",
    "        with multiBar[key]:\n",
    "            multiBarSuperposed(dictionary[key],key, title, xlabel, ylabel)\n",
    "    tabs=widgets.Accordion(list(multiBar.values()))\n",
    "    i=0\n",
    "    for key in multiBar.keys():\n",
    "        tabs.set_title(i, key)\n",
    "        i+=1\n",
    "    return tabs"
   ]
  }
 ],
 "metadata": {
  "kernelspec": {
   "display_name": "Python 3",
   "language": "python",
   "name": "python3"
  },
  "language_info": {
   "codemirror_mode": {
    "name": "ipython",
    "version": 2
   },
   "file_extension": ".py",
   "mimetype": "text/x-python",
   "name": "python",
   "nbconvert_exporter": "python",
   "pygments_lexer": "ipython2",
   "version": "2.7.6"
  }
 },
 "nbformat": 4,
 "nbformat_minor": 0
}