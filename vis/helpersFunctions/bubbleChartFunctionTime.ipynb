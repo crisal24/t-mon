{
 "cells": [
  {
   "cell_type": "markdown",
   "source": [
    "***constructAndDisplayBubbleChart* function**:\n",
    "* Input: players_times_action dictionary and actions : list of actions\n",
    "* Display a bubble chart showing a bubble in function of the average\n",
    "of players has done this action in a certain period of time."
   ],
   "metadata": {
    "collapsed": false
   }
  },
  {
   "cell_type": "code",
   "execution_count": null,
   "outputs": [],
   "source": [
    "def constructAndDisplayBubbleChart(actions, players_times_action):\n",
    "    player_action={}\n",
    "    players_times_number_of_players={}\n",
    "    for action in players_times_action.keys():\n",
    "        #the dict players_times_action is order per action, and for each action per time (key) with value the player\n",
    "        #take an delta time of 1 minute to chack if we have much action by all players\n",
    "        dtmax=timedelta(minutes = 1)\n",
    "        dt=0\n",
    "        i=0\n",
    "        presentplayer=[]\n",
    "        for time in players_times_action[action].keys():\n",
    "            if i==0:\n",
    "                #first point\n",
    "                time0=time\n",
    "                presentplayer.append(players_times_action[action][time])\n",
    "                timemoy=time0\n",
    "            else:\n",
    "                #nexts times\n",
    "                time1=time\n",
    "                #delta time\n",
    "                dt=time1-time0\n",
    "                #if dt>1 minute\n",
    "                if dt>dtmax:\n",
    "                    #add last point to the display\n",
    "                    player_action[timemoy]=action\n",
    "                    players_times_number_of_players[timemoy]=len(presentplayer)\n",
    "                    #new point\n",
    "                    time0=time\n",
    "                    presentplayer=[players_times_action[action][time]]\n",
    "                    timemoy=time0\n",
    "                else:\n",
    "                    #update point\n",
    "                    dt2=dt*(1/2)\n",
    "                    #take player\n",
    "                    player=players_times_action[action][time]\n",
    "                    #add player to list of present player to all only 1 time if it do the action multiple times\n",
    "                    if player not in presentplayer :\n",
    "                        presentplayer.append(player)\n",
    "                    #update timemoy\n",
    "                    timemoy=time0+dt2\n",
    "            i+=1\n",
    "    #display scatter bubble graph\n",
    "    x = list(player_action.keys())\n",
    "    y = list(player_action.values())\n",
    "    z = list(players_times_number_of_players.values())\n",
    "    plt.scatter(x,y,z)\n",
    "    plt.gca().xaxis.set_major_formatter(mdates.DateFormatter('%H:%M:%S %d-%m-%y'))\n",
    "    plt.gca().xaxis.set_major_locator(mdates.MinuteLocator(interval=10))\n",
    "    plt.xticks(rotation=45, ha=\"right\")\n",
    "    plt.yticks(fontsize=5)"
   ],
   "metadata": {
    "collapsed": false,
    "pycharm": {
     "name": "#%%\n"
    }
   }
  }
 ],
 "metadata": {
  "kernelspec": {
   "display_name": "Python 3",
   "language": "python",
   "name": "python3"
  },
  "language_info": {
   "codemirror_mode": {
    "name": "ipython",
    "version": 2
   },
   "file_extension": ".py",
   "mimetype": "text/x-python",
   "name": "python",
   "nbconvert_exporter": "python",
   "pygments_lexer": "ipython2",
   "version": "2.7.6"
  }
 },
 "nbformat": 4,
 "nbformat_minor": 0
}