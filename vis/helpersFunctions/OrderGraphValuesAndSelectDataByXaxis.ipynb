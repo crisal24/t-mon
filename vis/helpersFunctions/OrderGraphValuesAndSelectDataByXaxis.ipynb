{
 "cells": [
  {
   "cell_type": "markdown",
   "source": [
    "***separateDictToSubDictEachXvalues* function** get the dictionary and return a list of dictionaries, with for\n",
    "each dictionary contain X elements separated from initial dictionary\n",
    "Example : {a:1,b:2,c:3,d:4,e:5,f:6,g:7,h:8,i:9} and X=2=>[{a:1,b:2},{c:3,d:4},{e:5,f:6},{g:7,h:8},{i:9}]"
   ],
   "metadata": {
    "collapsed": false
   }
  },
  {
   "cell_type": "code",
   "execution_count": null,
   "outputs": [],
   "source": [
    "def separateDictToSubDictEachXvalues(dic, X):\n",
    "    item_dict=list(dic.items())\n",
    "    list_dict=[]\n",
    "    nbtimes=math.ceil(len(item_dict)/X)\n",
    "    for i in range(nbtimes):\n",
    "        list_dict.append(dict(item_dict[i*X:(i+1)*X]))\n",
    "    return list_dict"
   ],
   "metadata": {
    "collapsed": false,
    "pycharm": {
     "name": "#%%\n"
    }
   }
  },
  {
   "cell_type": "markdown",
   "source": [
    "***separateListToSubListEachXvalues* function** get the list and return a list of list, with for\n",
    "each list contain X elements separated from list\n",
    "Example : [1,2,3,4,5,6,7,8,9] and X=2=>[[1,2],[3,4},[5,6],[7,8],[9]] "
   ],
   "metadata": {
    "collapsed": false
   }
  },
  {
   "cell_type": "code",
   "execution_count": null,
   "outputs": [],
   "source": [
    "def separateListToSubListEachXvalues(list, X):\n",
    "    list_list=[]\n",
    "    nbtimes=math.ceil(len(list)/X)\n",
    "    for i in range(nbtimes):\n",
    "        list_list.append(list[i*X:(i+1)*X])\n",
    "    return list_list\n"
   ],
   "metadata": {
    "collapsed": false,
    "pycharm": {
     "name": "#%%\n"
    }
   }
  },
  {
   "cell_type": "markdown",
   "source": [
    "***organizeDictPerxAxisSelected* function** to separate dict to have a certain data to see for the dict of the position of the bars\n",
    "\n",
    "Input :\n",
    "* listOfKeysDict : the list of the keys of the dictionary\n",
    "* xaxis : 0 if all data, -1 (-2) if 10 first (10 last), or 5, 25, 50 per visualisation for x axis\n",
    "* dic : the dict to separated"
   ],
   "metadata": {
    "collapsed": false
   }
  },
  {
   "cell_type": "code",
   "execution_count": 3,
   "outputs": [],
   "source": [
    "nbFirstLast=10\n",
    "def organizeDictPerxAxisSelected(listOfKeysDict, xaxis, dic):\n",
    "    N=len(listOfKeysDict)\n",
    "    nbgraphshown=1\n",
    "    if xaxis==0:  #getAllDataInAListOfList\n",
    "        dic=[dic]\n",
    "    elif xaxis==-1:  #getnbFirstData\n",
    "        dic=[dict(list(dic.items())[:nbFirstLast])]\n",
    "        if N>nbFirstLast:\n",
    "            N=nbFirstLast\n",
    "    elif xaxis==-2:  #getnbLastData\n",
    "        dic=[dict(list(dic.items())[-nbFirstLast:])]\n",
    "        if N>nbFirstLast:\n",
    "            N=nbFirstLast\n",
    "    else:   #getxaxisDataSeparatedInListOfLists\n",
    "        dic=separateDictToSubDictEachXvalues(dic,xaxis)\n",
    "        N=xaxis\n",
    "        nbgraphshown=len(dic)\n",
    "    return nbgraphshown, dic, N"
   ],
   "metadata": {
    "collapsed": false,
    "pycharm": {
     "name": "#%%\n"
    }
   }
  },
  {
   "cell_type": "markdown",
   "source": [
    "***organizeDictPosPerDataLabels* function** to separate dict to have a certain data to see for the dict of the position of the bars\n",
    "\n",
    "Input :\n",
    "* xaxis : 0 if all data, -1 (-2) if 10 first (10 last), or 5, 25, 50 per visualisation for x axis\n",
    "* pos : the dict to separated"
   ],
   "metadata": {
    "collapsed": false
   }
  },
  {
   "cell_type": "code",
   "execution_count": 4,
   "outputs": [],
   "source": [
    "def organizeDictPosPerDataLabels(xaxis, pos):\n",
    "    if xaxis==0:  #getAllDataInAListOfList\n",
    "        return [pos]\n",
    "    elif xaxis==-1:  #getnbFirstData\n",
    "        return [dict(list(pos.items())[:nbFirstLast])]\n",
    "    elif xaxis==-2:  #getnbLastData\n",
    "        return [dict(list(pos.items())[-nbFirstLast:])]\n",
    "    else:   #getxaxisDataSeparatedInListOfLists\n",
    "        return separateDictToSubDictEachXvalues(pos, xaxis)\n",
    "\n"
   ],
   "metadata": {
    "collapsed": false,
    "pycharm": {
     "name": "#%%\n"
    }
   }
  },
  {
   "cell_type": "markdown",
   "source": [
    "***organizeDictPosPerDataxaxisDiff* function** to separate dict to have a certain data to see for the dict of the position of the bars\n",
    "\n",
    "Input :\n",
    "* xaxis : 0 if all data, -1 (-2) if 10 first (10 last), or 5, 25, 50 per visualisation for x axis\n",
    "* pos : the dict to separated"
   ],
   "metadata": {
    "collapsed": false
   }
  },
  {
   "cell_type": "code",
   "execution_count": null,
   "outputs": [],
   "source": [
    "def organizeDictPosPerDataxaxis(xaxis, pos):\n",
    "    pos2={}\n",
    "    for key in pos.keys():\n",
    "        if xaxis==0:  #getAllDataInAListOfList\n",
    "            pos2[key]=[pos[key]]\n",
    "        elif xaxis==-1:  #getnbFirstData\n",
    "            pos2[key]=[pos[key][:nbFirstLast]]\n",
    "        elif xaxis==-2:  #getnbLastData\n",
    "            pos2[key]=[pos[key][-nbFirstLast:]]\n",
    "        else:\n",
    "            pos2[key]=separateListToSubListEachXvalues(pos[key], xaxis)\n",
    "    return pos2"
   ],
   "metadata": {
    "collapsed": false,
    "pycharm": {
     "name": "#%%\n"
    }
   }
  },
  {
   "cell_type": "markdown",
   "source": [
    "***reorganiseDictBySubKeys* function** reorganize the dict by subkeys and keys of the original dict\n",
    "\n",
    "Input :\n",
    "* dict : the dict to reorganize"
   ],
   "metadata": {
    "collapsed": false
   }
  },
  {
   "cell_type": "code",
   "execution_count": 5,
   "outputs": [],
   "source": [
    "def reorganiseDictBySubKeys(dict):\n",
    "    temp_dict={}\n",
    "    for key in dict.keys():\n",
    "        for subkey in dict[key].keys():\n",
    "            if not subkey in temp_dict.keys():\n",
    "                temp_dict[subkey]={}\n",
    "            temp_dict[subkey][key]=dict[key][subkey]\n",
    "    return temp_dict"
   ],
   "metadata": {
    "collapsed": false,
    "pycharm": {
     "name": "#%%\n"
    }
   }
  },
  {
   "cell_type": "markdown",
   "source": [
    "***getPosDictMultiBarChart* function** construct the dict for the positions of the bars\n",
    "\n",
    "Input :\n",
    "* ordered_values : the dict of ordered values\n",
    "* listOfSubkeys : the list with the labels of the subkeys of the dict to know how many bar we need to have\n",
    "* N : number of values per keys"
   ],
   "metadata": {
    "collapsed": false,
    "pycharm": {
     "name": "#%% md\n"
    }
   }
  },
  {
   "cell_type": "code",
   "execution_count": 6,
   "outputs": [],
   "source": [
    "def getPosDictMultiBarChart(ordered_values, listOfSubkeys, N=None):\n",
    "    dict={}\n",
    "    for key in ordered_values.keys():\n",
    "        dict[key]={}\n",
    "        i=0\n",
    "        for subkey in ordered_values[key].keys():\n",
    "            dict[key][subkey]=i\n",
    "            i+=1\n",
    "    nbSubKey=len(listOfSubkeys)\n",
    "    if nbSubKey>0 and len(ordered_values.keys())>0:\n",
    "        bar_width = 1.0/nbSubKey\n",
    "    else:\n",
    "        return {}, 0\n",
    "    pos={}\n",
    "    nkey=0\n",
    "    for key in ordered_values.keys():\n",
    "        for subkey in ordered_values[key].keys():\n",
    "            if not subkey in pos.keys():\n",
    "                pos[subkey]=[]\n",
    "            pos[subkey].append(nkey+dict[key][subkey]*bar_width)\n",
    "        nkey+=1\n",
    "        if nkey==N:\n",
    "            nkey=0\n",
    "    return pos, bar_width"
   ],
   "metadata": {
    "collapsed": false,
    "pycharm": {
     "name": "#%%\n"
    }
   }
  },
  {
   "cell_type": "markdown",
   "source": [
    "***orderDict* function** to order all the dictionary values to order the values\n",
    "\n",
    "Input :\n",
    "* dictNotOrdered : the dict to order\n",
    "* order : the selected order (1: min to max, -1 : max to min, 0 : alphabetical)"
   ],
   "metadata": {
    "collapsed": false
   }
  },
  {
   "cell_type": "code",
   "execution_count": 7,
   "outputs": [],
   "source": [
    "def orderDictByDictValues(dictNotOrdered,order):\n",
    "    ordered={}\n",
    "    if order==1: #value from highest to lowest\n",
    "        for key in dictNotOrdered.keys():\n",
    "            ordered[key]=dict(sorted(dictNotOrdered[key].items(), key=lambda item:item[1], reverse =True))\n",
    "    elif order==-1: #value from lowest to highest\n",
    "        for key in dictNotOrdered.keys():\n",
    "            ordered[key]=dict(sorted(dictNotOrdered[key].items(), key=lambda item:item[1]))\n",
    "    else: #alphabetical order\n",
    "        for key in dictNotOrdered.keys():\n",
    "            ordered[key]=dict(sorted(dictNotOrdered[key].items(), key=lambda item:item[0]))\n",
    "    return ordered"
   ],
   "metadata": {
    "collapsed": false,
    "pycharm": {
     "name": "#%%\n"
    }
   }
  },
  {
   "cell_type": "markdown",
   "source": [
    "***orderDict* function** to order the dictionary with a lambda function to order the values\n",
    "\n",
    "Input :\n",
    "* dictNotOrdered : the dict to order\n",
    "* order : the selected order (1: min to max, -1 : max to min, 0 : alphabetical)\n",
    "* lambdafunctionForValueOrder : the lambda function to order the values by hight to lox (or reverse)"
   ],
   "metadata": {
    "collapsed": false,
    "pycharm": {
     "name": "#%% md\n"
    }
   }
  },
  {
   "cell_type": "code",
   "execution_count": 8,
   "outputs": [],
   "source": [
    "def orderDict(dictNotOrdered,order,lambdafunctionForValueOrder=(lambda item:item[1])):\n",
    "    ordered={}\n",
    "    if order==1: #value from highest to lowest\n",
    "        ordered=dict(sorted(dictNotOrdered.items(), key=lambdafunctionForValueOrder, reverse =True))\n",
    "    elif order==-1: #value from lowest to highest\n",
    "        ordered=dict(sorted(dictNotOrdered.items(), key=lambdafunctionForValueOrder))\n",
    "    else: #alphabetical order\n",
    "        ordered=dict(sorted(dictNotOrdered.items(), key=lambda item:item[0]))\n",
    "    return ordered"
   ],
   "metadata": {
    "collapsed": false,
    "pycharm": {
     "name": "#%%\n"
    }
   }
  }
 ],
 "metadata": {
  "kernelspec": {
   "display_name": "Python 3",
   "language": "python",
   "name": "python3"
  },
  "language_info": {
   "codemirror_mode": {
    "name": "ipython",
    "version": 2
   },
   "file_extension": ".py",
   "mimetype": "text/x-python",
   "name": "python",
   "nbconvert_exporter": "python",
   "pygments_lexer": "ipython2",
   "version": "2.7.6"
  }
 },
 "nbformat": 4,
 "nbformat_minor": 0
}