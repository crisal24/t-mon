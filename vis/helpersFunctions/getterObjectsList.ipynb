{
 "cells": [
  {
   "cell_type": "markdown",
   "metadata": {
    "collapsed": true,
    "pycharm": {
     "name": "#%% md\n"
    }
   },
   "source": [
    "***get_full_list_of_objects* function** to get the full list of objects of the action selected.\n",
    "\n",
    "Input:\n",
    "* action : the action to get in the players_info\n",
    "* typ : if it is organise per type, get all per types, else union directly\n",
    "* action2 : the 2nd action (facultative) to get in the players_info\n",
    "* dict : True if it is organise in dictionary, else if in list"
   ]
  },
  {
   "cell_type": "code",
   "execution_count": null,
   "outputs": [],
   "source": [
    "def get_full_list_of_objects(action, typ=False, action2=None, dict=True):\n",
    "    # find full list of objects\n",
    "    objects_list = set()\n",
    "    for player in players_info.keys():\n",
    "        if typ:\n",
    "            for type in players_info[player][action].keys():\n",
    "                if dict:\n",
    "                    objects_list = objects_list.union(players_info[player][action][type].keys())\n",
    "                else:\n",
    "                    objects_list = objects_list.union(players_info[player][action][type])\n",
    "                if not action2==None:\n",
    "                    for type in players_info[player][action2].keys():\n",
    "                        if dict:\n",
    "                            objects_list = objects_list.union(players_info[player][action2][type].keys())\n",
    "                        else:\n",
    "                            objects_list = objects_list.union(players_info[player][action2][type])\n",
    "        else:\n",
    "            if dict:\n",
    "                objects_list = objects_list.union(players_info[player][action].keys())\n",
    "            else:\n",
    "                objects_list = objects_list.union(players_info[player][action])\n",
    "            if not action2==None:\n",
    "                if dict:\n",
    "                    objects_list = objects_list.union(players_info[player][action2].keys())\n",
    "                else:\n",
    "                    objects_list = objects_list.union(players_info[player][action2])\n",
    "    objects_list = list(objects_list)\n",
    "    return sorted(objects_list)"
   ],
   "metadata": {
    "collapsed": false,
    "pycharm": {
     "name": "#%%\n"
    }
   }
  },
  {
   "cell_type": "markdown",
   "source": [
    "***getlist_completable_progress* function** to get the full list of ompletables progress contained in 0 and 1."
   ],
   "metadata": {
    "collapsed": false
   }
  },
  {
   "cell_type": "code",
   "execution_count": null,
   "outputs": [],
   "source": [
    "def getlist_completable_progress():\n",
    "    completables=set()\n",
    "    for player in players_info.keys():\n",
    "        cplayer = players_info[player][\"completables_progress\"]\n",
    "        if cplayer != {}:\n",
    "            for c in cplayer.keys():\n",
    "                temp=cplayer[c]\n",
    "                if temp>=0 and temp<=1:\n",
    "                    completables.add(c)\n",
    "    return sorted(list(completables))"
   ],
   "metadata": {
    "collapsed": false,
    "pycharm": {
     "name": "#%%\n"
    }
   }
  },
  {
   "cell_type": "markdown",
   "source": [
    "***getSublistSelectedFromUnionListSelected* function** to get the elements selected from full list that are in sublist.\n",
    "\n",
    "Input:\n",
    "* sublist : the sublist from where we want all elements present contained in unionListSelected\n",
    "* unionListSelected : full list with selected elements"
   ],
   "metadata": {
    "collapsed": false
   }
  },
  {
   "cell_type": "code",
   "execution_count": null,
   "outputs": [],
   "source": [
    "def getSublistSelectedFromUnionListSelected(sublist, unionListSelected):\n",
    "    return [elem for elem in unionListSelected if elem in sublist]"
   ],
   "metadata": {
    "collapsed": false,
    "pycharm": {
     "name": "#%%\n"
    }
   }
  }
 ],
 "metadata": {
  "kernelspec": {
   "display_name": "Python 3",
   "language": "python",
   "name": "python3"
  },
  "language_info": {
   "codemirror_mode": {
    "name": "ipython",
    "version": 2
   },
   "file_extension": ".py",
   "mimetype": "text/x-python",
   "name": "python",
   "nbconvert_exporter": "python",
   "pygments_lexer": "ipython2",
   "version": "2.7.6"
  }
 },
 "nbformat": 4,
 "nbformat_minor": 0
}