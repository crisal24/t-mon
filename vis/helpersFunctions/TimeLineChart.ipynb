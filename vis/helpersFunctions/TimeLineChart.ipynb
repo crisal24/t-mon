{
 "cells": [
  {
   "cell_type": "markdown",
   "source": [
    "***absoluteToRelativeTime* function** give the relative time compare to the first value time\n",
    "* Input :  timeList > list of time\n",
    "* Output :  relativeTimeList > list of relative time in minutes"
   ],
   "metadata": {
    "collapsed": false,
    "pycharm": {
     "name": "#%% md\n"
    }
   }
  },
  {
   "cell_type": "code",
   "execution_count": null,
   "metadata": {
    "collapsed": true
   },
   "outputs": [],
   "source": [
    "\n",
    "def absoluteToRelativeTime(timeList):\n",
    "    startTime=timeList[0]\n",
    "    relativeTimeList=[]\n",
    "    for time in timeList:\n",
    "        t=time-startTime\n",
    "        relativeTimeList.append(t.total_seconds()/60.0)\n",
    "    return relativeTimeList"
   ]
  }
 ],
 "metadata": {
  "kernelspec": {
   "display_name": "Python 3",
   "language": "python",
   "name": "python3"
  },
  "language_info": {
   "codemirror_mode": {
    "name": "ipython",
    "version": 2
   },
   "file_extension": ".py",
   "mimetype": "text/x-python",
   "name": "python",
   "nbconvert_exporter": "python",
   "pygments_lexer": "ipython2",
   "version": "2.7.6"
  }
 },
 "nbformat": 4,
 "nbformat_minor": 0
}