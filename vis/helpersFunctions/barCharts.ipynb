{
 "cells": [
  {
   "cell_type": "code",
   "execution_count": null,
   "metadata": {
    "collapsed": true
   },
   "outputs": [],
   "source": [
    "def get_full_list_of_objects(action, typ=False): \n",
    "    # find full list of objects\n",
    "    objects_list = set()\n",
    "    for player in players_info.keys():\n",
    "        if typ:\n",
    "            for type in players_info[player][action].keys():\n",
    "                objects_list = objects_list.union(players_info[player][action][type].keys())\n",
    "        else:\n",
    "            objects_list = objects_list.union(players_info[player][action].keys())\n",
    "    objects_list = list(objects_list)\n",
    "    return objects_list\n",
    "\n",
    "def get_percentage_bar(list_values_sup_inf, list_values_inf, object_list):\n",
    "    N = len(object_list)\n",
    "    ind = np.arange(N)\n",
    "    width = 0.35\n",
    "    percentages=[]\n",
    "    for (x,y) in zip(list_values_sup_inf,list_values_inf):\n",
    "        pourcent=x/(x+y)*100\n",
    "        percentages.append(pourcent)\n",
    "    bar=plt.bar(ind, percentages, width, color='b')\n",
    "    plt.xticks(ind, object_list, rotation=90)\n",
    "    plt.ylim(0,100)\n",
    "    # Call the function above. All the magic happens there.\n",
    "    add_value_labels(bar)\n",
    "\n",
    "def add_value_labels(ax, spacing=5):\n",
    "    \"\"\"Add labels to the end of each bar in a bar chart.\n",
    "\n",
    "    Arguments:\n",
    "        ax (matplotlib.axes.Axes): The matplotlib object containing the axes\n",
    "            of the plot to annotate.\n",
    "        spacing (int): The distance between the labels and the bars.\n",
    "    \"\"\"\n",
    "\n",
    "    # For each bar: Place a label\n",
    "    for rect in ax:\n",
    "        # Get X and Y placement of label from rect.\n",
    "        y_value = rect.get_height()\n",
    "        x_value = rect.get_x() + rect.get_width() / 2\n",
    "\n",
    "        # Number of points between bar and label. Change to your liking.\n",
    "        space = spacing\n",
    "        # Vertical alignment for positive values\n",
    "        va = 'bottom'\n",
    "\n",
    "        # If value of bar is negative: Place label below bar\n",
    "        if y_value < 0:\n",
    "            # Invert space to place label below\n",
    "            space *= -1\n",
    "            # Vertically align label at top\n",
    "            va = 'top'\n",
    "\n",
    "        # Use Y value as label and format number with one decimal place\n",
    "        label = \"{:.1f}\".format(y_value)\n",
    "\n",
    "        # Create annotation                \n",
    "        plt.text(x_value, y_value,              # Place label at end of the bar\n",
    "                 '%d' % int(y_value),            # Use `label` as label\n",
    "                 ha='center',                   #align to the center \n",
    "                 va=va)                     # Vertically align label differently for\n",
    "        #                                # positive and negative values.\n"
   ]
  }
 ],
 "metadata": {
  "kernelspec": {
   "display_name": "Python 3",
   "language": "python",
   "name": "python3"
  },
  "language_info": {
   "codemirror_mode": {
    "name": "ipython",
    "version": 2
   },
   "file_extension": ".py",
   "mimetype": "text/x-python",
   "name": "python",
   "nbconvert_exporter": "python",
   "pygments_lexer": "ipython2",
   "version": "2.7.6"
  },
  "pycharm": {
   "stem_cell": {
    "cell_type": "raw",
    "source": [],
    "metadata": {
     "collapsed": false
    }
   }
  }
 },
 "nbformat": 4,
 "nbformat_minor": 0
}