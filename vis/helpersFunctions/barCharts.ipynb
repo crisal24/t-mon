{
 "cells": [
  {
   "cell_type": "markdown",
   "source": [
    "***get_two_superposed_values_bars* function** to construct a superposed bar chart\n",
    "\n",
    "Input :\n",
    "* ind : the indicator to know where display the superposed bars\n",
    "* list_xticks_labels : the list of x_ticks_labels to display\n",
    "* listUp : the list of values to display up\n",
    "* labelUp : the labels corresponding of the values to the listUp\n",
    "* colorUp : the color to the up bars\n",
    "* listDown : the list of values to display down\n",
    "* labelDown : the labels corresponding of the values to the listDown\n",
    "* colorDown : the color to the down bars"
   ],
   "metadata": {
    "collapsed": false,
    "pycharm": {
     "name": "#%% md\n"
    }
   }
  },
  {
   "cell_type": "code",
   "execution_count": null,
   "metadata": {
    "pycharm": {
     "name": "#%%\n"
    }
   },
   "outputs": [],
   "source": [
    "def get_two_superposed_values_bars(ind, list_xticks_labels, listUp, labelUp, colorUp, listDown, labelDown, colorDown):\n",
    "    width = 0.35\n",
    "    max=0\n",
    "    for i in range(len(list_xticks_labels)):\n",
    "        temp=listUp[i]+listDown[i]\n",
    "        if temp>max:\n",
    "            max=temp\n",
    "    max+=0.5\n",
    "    if not all_list_nbrep_empty(listUp):\n",
    "        if all_list_nbrep_empty(listDown):\n",
    "            p = plt.bar(ind, listUp, width, color=colorUp, label=labelUp)\n",
    "        else:\n",
    "            p1 = plt.bar(ind, listDown, width, color=colorDown, label=labelDown)\n",
    "            p2 = plt.bar(ind, listUp, width, color=colorUp, label=labelUp,\n",
    "                         bottom=listDown)\n",
    "    else:\n",
    "        p = plt.bar(ind, listDown, width, color=colorDown, label=labelDown)\n",
    "    plt.xticks(ind, list_xticks_labels)\n",
    "    plt.yticks(np.arange(0, max, 1))\n",
    "    plt.ylim(0, max)\n",
    "    plt.legend(loc='center left', bbox_to_anchor=(1, 0.5))"
   ]
  },
  {
   "cell_type": "markdown",
   "metadata": {},
   "source": [
    "***all_list_nbrep_empty* function** to see if one of the value of the list is 0\n",
    "Input:\n",
    "* list : the list to analyse\n",
    "\n",
    "Output:\n",
    "* return : boolean > True if any value is equal to 0, false otherwise"
   ]
  },
  {
   "cell_type": "code",
   "execution_count": null,
   "metadata": {
    "pycharm": {
     "name": "#%%\n"
    }
   },
   "outputs": [],
   "source": [
    "def all_list_nbrep_empty(list):\n",
    "    for nbrep in list:\n",
    "        if nbrep!=0:\n",
    "            return False\n",
    "    return True"
   ]
  },
  {
   "cell_type": "markdown",
   "source": [
    "***get_percentage_bar* function** to construct the bar chart in percentage\n",
    "* list_values_sup_inf : the list of the values to calculate the percentage of those values\n",
    "* list_values_inf : the list of the others values to calculate the percentage\n",
    "* object_list : list of objects"
   ],
   "metadata": {
    "collapsed": false,
    "pycharm": {
     "name": "#%% md\n"
    }
   }
  },
  {
   "cell_type": "code",
   "execution_count": null,
   "metadata": {
    "pycharm": {
     "name": "#%%\n"
    }
   },
   "outputs": [],
   "source": [
    "def get_percentage_bar(list_values_sup_inf, list_values_inf, object_list):\n",
    "    N = len(object_list)\n",
    "    ind = np.arange(N)\n",
    "    width = 0.35\n",
    "    percentages=[]\n",
    "    for (x,y) in zip(list_values_sup_inf,list_values_inf):\n",
    "        try:\n",
    "            pourcent=x/(x+y)*100\n",
    "        except ZeroDivisionError:\n",
    "            pourcent=0\n",
    "        percentages.append(pourcent)\n",
    "    bar=plt.bar(ind, percentages, width, color='b')\n",
    "    plt.xticks(ind, object_list, rotation=90)\n",
    "    plt.ylim(0,100)\n",
    "    # Call the function above. All the magic happens there.\n",
    "    add_value_labels(bar)"
   ]
  },
  {
   "cell_type": "markdown",
   "source": [
    "***add_value_labels* function** to add labels to the end of each bar in a bar chart.\n",
    "\n",
    "Arguments:\n",
    "* ax (matplotlib.axes.Axes): The matplotlib object containing the axes of the plot to annotate.\n",
    "* spacing (int): The distance between the labels and the bars."
   ],
   "metadata": {
    "collapsed": false,
    "pycharm": {
     "name": "#%% md\n"
    }
   }
  },
  {
   "cell_type": "code",
   "execution_count": null,
   "metadata": {
    "pycharm": {
     "name": "#%%\n"
    }
   },
   "outputs": [],
   "source": [
    "def add_value_labels(ax, spacing=5):\n",
    "    # For each bar: Place a label\n",
    "    for rect in ax:\n",
    "        # Get X and Y placement of label from rect.\n",
    "        y_value = rect.get_height()\n",
    "        x_value = rect.get_x() + rect.get_width() / 2\n",
    "\n",
    "        # Number of points between bar and label. Change to your liking.\n",
    "        space = spacing\n",
    "        # Vertical alignment for positive values\n",
    "        va = 'bottom'\n",
    "\n",
    "        # If value of bar is negative: Place label below bar\n",
    "        if y_value < 0:\n",
    "            # Invert space to place label below\n",
    "            space *= -1\n",
    "            # Vertically align label at top\n",
    "            va = 'top'\n",
    "\n",
    "        # Use Y value as label and format number with one decimal place\n",
    "        label = \"{:.1f}\".format(y_value)\n",
    "\n",
    "        # Create annotation                \n",
    "        plt.text(x_value, y_value,              # Place label at end of the bar\n",
    "                 '%d' % int(y_value),            # Use `label` as label\n",
    "                 ha='center',                   #align to the center \n",
    "                 va=va)                     # Vertically align label differently for\n",
    "        #                                # positive and negative values.\n"
   ]
  },
  {
   "cell_type": "markdown",
   "source": [
    "***constructMultiBarWithVerticalLines* function** to construct to multi bars visualisations with vertical lines and centered labels\n",
    "\n",
    "Imput :\n",
    "* dict : the dict containing alls values to display\n",
    "* n: the number of the graph to display\n",
    "* listsubkeys : the list of the subkeys to display in x axe\n",
    "* pos : a tab with alls positions of the bars organize by keys and the number of the graph to display\n",
    "* bar_width : the width of the bars\n",
    "* percentage : True if it is a percentage chart bar, false otherwise"
   ],
   "metadata": {
    "collapsed": false,
    "pycharm": {
     "name": "#%% md\n"
    }
   }
  },
  {
   "cell_type": "code",
   "execution_count": null,
   "metadata": {
    "pycharm": {
     "name": "#%%\n"
    }
   },
   "outputs": [],
   "source": [
    "def constructMultiBarWithVerticalLines(dict, n, listsubkeys, pos, bar_width, N, inv=True):\n",
    "    max=0\n",
    "    nkey=0\n",
    "    for key in dict[n].keys():\n",
    "        for val in dict[n][key].values():\n",
    "            if val>max:\n",
    "                max=val\n",
    "        #add verticals lines\n",
    "        for i in range(len(dict[n][key])):\n",
    "            if i!=0:\n",
    "                plt.axvline(x=i-bar_width/2)\n",
    "        #add bars for key\n",
    "        if inv:\n",
    "            bar=plt.bar([val-n*N for val in pos[key][n]],\n",
    "                        list(dict[n][key].values()),\n",
    "                        bar_width,\n",
    "                        label=key)\n",
    "        else: #usefull for organise with labels\n",
    "            bar=plt.bar(pos[n][key],\n",
    "                        list(dict[n][key].values()),\n",
    "                        bar_width,\n",
    "                        label=key)\n",
    "        ticks_label=list(dict[n][key].keys())\n",
    "        add_value_labels(bar)\n",
    "        nkey+=1\n",
    "    max+=2\n",
    "    plt.gca().axes.set_xticks([x+0.4 for x in range(len(ticks_label))])\n",
    "    plt.gca().axes.set_xticklabels(ticks_label)\n",
    "    plt.legend(loc='center left', bbox_to_anchor=(1, 0.5))\n",
    "    plt.xticks(rotation=90)\n",
    "    plt.ylim((0,max))\n",
    "    if N>len(listsubkeys):\n",
    "        xlmax=len(listsubkeys)\n",
    "    else:\n",
    "        xlmax=N\n",
    "    if inv:\n",
    "        plt.xlim((-bar_width,N))\n",
    "    else:\n",
    "        plt.xlim((-bar_width,len(listsubkeys)))"
   ]
  }
 ],
 "metadata": {
  "kernelspec": {
   "display_name": "Python 3",
   "language": "python",
   "name": "python3"
  },
  "language_info": {
   "codemirror_mode": {
    "name": "ipython",
    "version": 3
   },
   "file_extension": ".py",
   "mimetype": "text/x-python",
   "name": "python",
   "nbconvert_exporter": "python",
   "pygments_lexer": "ipython3",
   "version": "3.6.10"
  }
 },
 "nbformat": 4,
 "nbformat_minor": 1
}