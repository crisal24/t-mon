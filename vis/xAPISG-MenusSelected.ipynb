{
 "cells": [
  {
   "cell_type": "markdown",
   "metadata": {
    "collapsed": true,
    "pycharm": {
     "name": "#%% md\n"
    }
   },
   "source": [
    "***vis_menu_selected* function**:\n",
    "* Input: players_info dictionary\n",
    "* Displays bar chart showing for each menu the number of time each player select an option"
   ]
  },
  {
   "cell_type": "code",
   "execution_count": 2,
   "outputs": [],
   "source": [
    "outputMenu=widgets.Output()\n",
    "def vis_menu_selected_interactive():\n",
    "    vis_menus=interactive(vis_menu_selected)\n",
    "    md_text = widgets.HTML(\"<h4>Bar chart showing for each menu the number of time each player select an option</h4>\")\n",
    "    with outputMenu:\n",
    "        print(\"Updating visualisation with the current selection of players and menus...\")\n",
    "    return widgets.VBox([md_text, vis_menus,outputMenu])\n",
    "\n",
    "%run vis/helpersFunctions/barCharts.ipynb\n",
    "def vis_menu_selected():\n",
    "    playersSelected=checkboxesPlayersSelected.get_selected_options()\n",
    "    menus=checkboxesSelectedmenus.get_selected_options()\n",
    "    \n",
    "    nbmenus={}\n",
    "    for menu in menus:\n",
    "            for player in playersSelected:\n",
    "                if menu in players_info[player][\"selected_menus\"].keys():\n",
    "                    if not menu in nbmenus.keys():\n",
    "                        nbmenus[menu]={}\n",
    "                    for selection in players_info[player][\"selected_menus\"][menu]:\n",
    "                        if not player in nbmenus[menu].keys():\n",
    "                            nbmenus[menu][player]={}\n",
    "                        if not selection in nbmenus[menu][player].keys():\n",
    "                            nbmenus[menu][player][selection]=0\n",
    "                        nbmenus[menu][player][selection]+=len(players_info[player][\"selected_menus\"][menu][selection])\n",
    "    \n",
    "    # Multiple bar chart showing the response selected in a menu for each personn.\n",
    "    alls_menus_vis={}\n",
    "    if len(playersSelected)>0 and len(menus)>0:\n",
    "        for menu in menus:\n",
    "            alls_menus_vis[menu]=widgets.Output()\n",
    "            with alls_menus_vis[menu]:\n",
    "                bar=pd.DataFrame(nbmenus[menu]).plot(kind='bar',title=\"response selected for each person in menu \"+menu)\n",
    "                add_value_labels(bar.patches)\n",
    "                plt.xticks(rotation=90)\n",
    "                plt.show()\n",
    "        tabs=widgets.Accordion(list(alls_menus_vis.values()))\n",
    "        i=0\n",
    "        for key in alls_menus_vis.keys():\n",
    "            tabs.set_title(i, key)\n",
    "            i+=1\n",
    "        display(tabs)\n",
    "    else:\n",
    "        noDataToFillVis(10)\n",
    "        plt.ylabel(\"Number of times\")\n",
    "        plt.xlabel(\"Option selected\")\n",
    "        plt.title(\"response selected for each person in menu\")\n",
    "        plt.show()\n",
    "    with outputMenu:\n",
    "        clear_output(wait=False)"
   ],
   "metadata": {
    "collapsed": false,
    "pycharm": {
     "name": "#%%\n",
     "is_executing": false
    }
   }
  }
 ],
 "metadata": {
  "kernelspec": {
   "display_name": "Python 3",
   "language": "python",
   "name": "python3"
  },
  "language_info": {
   "codemirror_mode": {
    "name": "ipython",
    "version": 2
   },
   "file_extension": ".py",
   "mimetype": "text/x-python",
   "name": "python",
   "nbconvert_exporter": "python",
   "pygments_lexer": "ipython2",
   "version": "2.7.6"
  }
 },
 "nbformat": 4,
 "nbformat_minor": 0
}