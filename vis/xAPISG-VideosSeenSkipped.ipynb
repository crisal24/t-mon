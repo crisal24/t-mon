{
 "cells": [
  {
   "cell_type": "code",
   "execution_count": null,
   "outputs": [],
   "source": [
    "%run vis/xAPISG-noDataToFillVisualization.ipynb # notebook to create the visualisation with a message NoDataToFill\n",
    "%run vis/helpersFunctions/barCharts.ipynb\n",
    "%run vis/helpersFunctions/OrderGraphValuesAndSelectDataByXaxis.ipynb"
   ],
   "metadata": {
    "collapsed": false,
    "pycharm": {
     "name": "#%%\n",
     "is_executing": false
    }
   }
  },
  {
   "cell_type": "markdown",
   "source": [
    "***vis_videos_seen_skipped* function**:\n",
    "* Input: players_info dictionary\n",
    "* Displays bar chart showing for each video the total number of times it has been seen and skipped"
   ],
   "metadata": {
    "collapsed": false
   }
  },
  {
   "cell_type": "code",
   "execution_count": 2,
   "outputs": [],
   "source": [
    "outputVideo=widgets.Output()\n",
    "\n",
    "def vis_videos_seen_skipped():\n",
    "    vis_videos_seen_skipped=interactive(construct_graph_video,\n",
    "                        #constructing a dropdown to select how many data we want to see in visualisations for x axis\n",
    "                       xaxis=widgets.Dropdown(options=[('All datas',0),('5 per visualisation',5),('25 per visualisation',25),('50 per visualisation',50),('10 first',-1),('10 last',-2)],\n",
    "                                description='x axe',\n",
    "                                disabled=False),\n",
    "                        #constructing a dropdown to order for alphabetic keys or for values\n",
    "                        order=widgets.Dropdown(options=[('alphabetic',0),('value from highest to lowest',1),('value from lowest to highest',-1)],\n",
    "                                description='Order',\n",
    "                                disabled=False),\n",
    "                       percentageVideoSkipped=False,\n",
    "                       orderLabelValues=[(\"Order by all seen and skipped videos values\",0),\n",
    "                                         (\"Order by seens videos values\",\"seen\"),\n",
    "                                         (\"Order by skipped videos values\",\"skipped\")])\n",
    "    md_text = widgets.HTML(\"<h4>Bar chart showing for each video the total number of times it has been seen and skipped</h4>\")\n",
    "    with outputVideo:\n",
    "        print(\"Updating visualisation with the current selection of players and videos...\")\n",
    "    return VBox([md_text, vis_videos_seen_skipped, outputVideo])\n",
    "\n",
    "def construct_graph_video(percentageVideoSkipped, xaxis,order, orderLabelValues):\n",
    "    #get all players selected\n",
    "    playersSelected=checkboxesPlayersSelected.get_selected_options()\n",
    "    videosSelected=checkboxesVideoSelected.get_selected_options()\n",
    "    videos_seen = {}\n",
    "    videos_skipped = {}\n",
    "\n",
    "    for player in playersSelected:\n",
    "        # videos seen\n",
    "        for video_seen in players_info[player][\"videos_seen\"]:\n",
    "            if video_seen in videosSelected:\n",
    "                if video_seen in videos_seen.keys():\n",
    "                    videos_seen[video_seen] += 1\n",
    "                else:\n",
    "                    videos_seen[video_seen] = 1\n",
    "                if video_seen not in videos_skipped.keys():\n",
    "                    videos_skipped[video_seen] = 0\n",
    "        # videos skipped\n",
    "        for video_skipped in players_info[player][\"videos_skipped\"]:\n",
    "            if video_skipped in videosSelected:\n",
    "                if video_skipped in videos_skipped.keys():\n",
    "                    videos_skipped[video_skipped] += 1\n",
    "                else:\n",
    "                    videos_skipped[video_skipped] = 1\n",
    "                if video_skipped not in videos_seen.keys():\n",
    "                    videos_seen[video_skipped] = 0\n",
    "                else:\n",
    "                    videos_seen[video_skipped] -= 1\n",
    "    videosseenskipped={}\n",
    "    for video in videosSelected:\n",
    "        videosseenskipped[video]={\"seen\":videos_seen[video],\"skipped\":videos_skipped[video]}\n",
    "    if orderLabelValues==0:\n",
    "        lambdafunc=lambda item:item[1][\"seen\"]+item[1][\"skipped\"]\n",
    "    else:\n",
    "        lambdafunc=lambda item:item[1][orderLabelValues]\n",
    "    videosseenskipped = orderDict(videosseenskipped,order,lambdafunc)\n",
    "    nbgraphshown, videosseenskipped,N = organizeDictPerxAxisSelected(videos_seen,xaxis, videosseenskipped)\n",
    "    # Bar chart showing for each video\n",
    "    # the total number of times it has been seen and skipped\n",
    "    for n in range(nbgraphshown):\n",
    "        v_seen=[videosseenskipped[n][video][\"seen\"] for video in videosseenskipped[n].keys()]\n",
    "        v_skipped=[videosseenskipped[n][video][\"skipped\"] for video in videosseenskipped[n].keys()]\n",
    "        v_list=[video for video in videosseenskipped[n].keys()]\n",
    "        if percentageVideoSkipped:\n",
    "            if N>0:\n",
    "                get_percentage_bar(v_skipped, v_seen, v_list)\n",
    "            else: \n",
    "                noDataToFillVis(10)\n",
    "            plt.ylabel(\"Percentage of videos skipped\")\n",
    "        else:\n",
    "            if N>0:\n",
    "                if n<nbgraphshown-1:\n",
    "                    ind = np.arange(N)\n",
    "                else:\n",
    "                    ind= np.arange(len(v_list))\n",
    "                get_two_superposed_values_bars(ind,v_list,\n",
    "                                            v_seen, \"Seen\",'orange',\n",
    "                                            v_skipped, \"Seen but skipped\",'lightblue')\n",
    "            else:\n",
    "                noDataToFillVis(10)\n",
    "            plt.ylabel(\"Number of times\")\n",
    "        plt.xticks(rotation=45, ha=\"right\")\n",
    "        plt.xlabel(\"Video\")\n",
    "        plt.title(\"Videos seen and skipped by players\")\n",
    "        plt.show()\n",
    "    with outputVideo:\n",
    "        clear_output(wait=False)"
   ],
   "metadata": {
    "collapsed": false,
    "pycharm": {
     "name": "#%%\n"
    }
   }
  }
 ],
 "metadata": {
  "kernelspec": {
   "display_name": "Python 3",
   "language": "python",
   "name": "python3"
  },
  "language_info": {
   "codemirror_mode": {
    "name": "ipython",
    "version": 3
   },
   "file_extension": ".py",
   "mimetype": "text/x-python",
   "name": "python",
   "nbconvert_exporter": "python",
   "pygments_lexer": "ipython3",
   "version": "3.7.6"
  }
 },
 "nbformat": 4,
 "nbformat_minor": 4
}