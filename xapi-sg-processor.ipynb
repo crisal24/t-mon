{
 "cells": [
  {
   "cell_type": "markdown",
   "metadata": {},
   "source": [
    "# xAPI-SG Processor"
   ]
  },
  {
   "cell_type": "markdown",
   "metadata": {},
   "source": [
    "### Processor of traces following the Experience API for Serious Games Profile (xAPI-SG)\n",
    "\n",
    "**xAPI-SG main reference:**  \n",
    "*Applying standards to systematize learning analytics in serious games.\n",
    "Ángel Serrano-Laguna, Iván Martínez-Ortiz, Jason Haag, Damon Regan, Andy Johnson, Baltasar Fernández-Manjón \n",
    "Computer Standards & Interfaces 50 (2017) 116–123, http://dx.doi.org/10.1016/j.csi.2016.09.014*\n",
    "\n",
    "Further info on GitHub wiki page: https://github.com/e-ucm/rage-analytics/wiki/xAPI-SG-Profile \n",
    "\n",
    "xAPI-SG:  \n",
    "- **Verbs**: \"accessed\", \"completed\", \"initialized\", \"interacted\", \"pressed\", \"progressed\", \"released\", \"selected\",          \"skipped\", \"unlocked\", \"used\"\n",
    "- **Activity types**: \"area\", \"controller\", \"cutscene\", \"dialog-tree\", \"enemy\", \"item\", \"keyboard\", \"level\", \"menu\", \"mouse\", \"non-player-character\", \"quest\", \"question\", \"screen\", \"serious-game\", \"touchscreen\", \"zone\"\n",
    "- **Extensions**: \"health\", \"position\", \"progress\""
   ]
  },
  {
   "cell_type": "code",
   "execution_count": 2,
   "metadata": {},
   "outputs": [],
   "source": [
    "import json\n",
    "import numpy as np\n",
    "from datetime import datetime\n",
    "import copy\n",
    "import matplotlib.dates as mdates\n",
    "import matplotlib.pyplot as plt\n",
    "from collections import Counter"
   ]
  },
  {
   "cell_type": "code",
   "execution_count": 112,
   "metadata": {},
   "outputs": [],
   "source": [
    "# process each xAPI-SG trace and update player info dict\n",
    "def process_xapi_trace(data, players_info):\n",
    "    # available keys in dictionary\n",
    "    keys = data.keys()\n",
    "\n",
    "    ## extracting fields from xAPI trace\n",
    "    # actor field\n",
    "    if \"actor\" in keys:\n",
    "        if \"name\" in data[\"actor\"].keys():\n",
    "            actor_name = data[\"actor\"][\"name\"]\n",
    "            \n",
    "            if actor_name not in players_info.keys():\n",
    "                players_info[actor_name] = copy.deepcopy(template_player_info)\n",
    "                \n",
    "            player_info = players_info[actor_name]    \n",
    "\n",
    "    # verb field\n",
    "    if \"verb\" in keys:\n",
    "        if \"id\" in data[\"verb\"].keys():\n",
    "            verb_id = data[\"verb\"][\"id\"]\n",
    "            # process verb field\n",
    "            verb_xapi = np.array(verb_id.split(\"/\"))[-1]\n",
    "\n",
    "    # object field\n",
    "    if \"object\" in keys:\n",
    "        if \"id\" in data[\"object\"].keys():\n",
    "            object_id = data[\"object\"][\"id\"]\n",
    "            # process object id field\n",
    "            object_id_name = np.array(object_id.split(\"/\"))[-1]\n",
    "        if \"definition\" in data[\"object\"].keys() and \"type\" in data[\"object\"][\"definition\"].keys():\n",
    "            object_type = data[\"object\"][\"definition\"][\"type\"]\n",
    "            # process object type field\n",
    "            object_type_xapi = np.array(object_type.split(\"/\"))[-1]\n",
    "\n",
    "    # result field\n",
    "    if \"result\" in keys:\n",
    "        if \"extensions\" in data[\"result\"].keys():\n",
    "            res = data[\"result\"][\"extensions\"]\n",
    "        else:\n",
    "            res = data[\"result\"]\n",
    "        if \"success\" in res.keys():\n",
    "            result_success = res[\"success\"]\n",
    "        if \"response\" in res.keys():\n",
    "            result_response = res[\"response\"]\n",
    "        if \"progress\" in res.keys():\n",
    "            result_progress = res[\"progress\"]\n",
    "        elif \"https://w3id.org/xapi/seriousgames/extensions/progress\" in res.keys():\n",
    "            result_progress = res[\"https://w3id.org/xapi/seriousgames/extensions/progress\"]\n",
    "        if \"score\" in res.keys():\n",
    "            result_score = res[\"score\"]\n",
    "\n",
    "    # timestamp field\n",
    "    if \"timestamp\" in keys:\n",
    "        timestamp = data[\"timestamp\"]\n",
    "    \n",
    "    ## update values\n",
    "    try:\n",
    "        # initialized traces\n",
    "        if verb_xapi==\"initialized\":\n",
    "            if object_type_xapi==\"serious-game\":\n",
    "                player_info[\"game_started\"] = True\n",
    "            if timestamp:\n",
    "                player_info[\"completables_times\"][object_id_name] = timestamp\n",
    "        # completed traces  \n",
    "        elif verb_xapi==\"completed\":\n",
    "            if object_type_xapi==\"serious-game\":\n",
    "                player_info[\"game_completed\"] = True\n",
    "            if timestamp and object_id_name in player_info[\"completables_times\"].keys():\n",
    "                player_info[\"completables_times\"][object_id_name] = (player_info[\"completables_times\"][object_id_name], timestamp)\n",
    "            if object_id_name and timestamp and result_score:\n",
    "                player_info[\"completables_scores\"][object_id_name]=result_score\n",
    "        # progressed traces\n",
    "        elif verb_xapi==\"progressed\":\n",
    "            if object_type_xapi==\"serious-game\" and timestamp and result_progress:\n",
    "                for timeformat in ('%Y-%m-%dT%H:%M:%SZ', '%Y-%m-%dT%H:%M:%S.%fZ'):\n",
    "                    try:\n",
    "                        t = datetime.strptime(timestamp, timeformat)\n",
    "                    except ValueError:\n",
    "                        pass\n",
    "                player_info[\"game_progress_per_time\"].append([result_progress, t])\n",
    "            if verb_xapi==\"progressed\" and object_id_name and timestamp and result_progress:\n",
    "                player_info[\"completables_progress\"][object_id_name]=result_progress\n",
    "        # selected traces\n",
    "        elif verb_xapi==\"selected\":\n",
    "            if object_id_name and result_response and result_success:\n",
    "                if object_id_name in player_info[\"alternatives\"].keys():\n",
    "                    player_info[\"alternatives\"][object_id_name].append((result_response, result_success))\n",
    "                else:\n",
    "                    player_info[\"alternatives\"][object_id_name] = [(result_response, result_success)]\n",
    "        # accessed traces\n",
    "        if verb_xapi==\"accessed\":\n",
    "            if object_type_xapi==\"Cutscene\" and object_id_name:\n",
    "                player_info[\"videos_seen\"].append(object_id_name)\n",
    "        # skipped traces\n",
    "        if verb_xapi==\"skipped\":\n",
    "            if object_type_xapi==\"Cutscene\" and object_id_name:\n",
    "                player_info[\"videos_skipped\"].append(object_id_name)\n",
    "    except NameError:\n",
    "        pass  \n",
    "    \n",
    "# file with xAPI-SG traces      \n",
    "location=\"\" # file location\n",
    "file_name=\"\" # file name\n",
    "\n",
    "# template with default information for each player\n",
    "template_player_info = {\n",
    "    \"game_started\": False, \"game_completed\": False,\n",
    "    \"game_progress_per_time\": [], # list of pairs (game progress, timestamp)\n",
    "    \"completables_scores\": {}, # dict completable : last score\n",
    "    \"completables_progress\": {}, # list of pairs completable : last progress\n",
    "    \"completables_times\": {}, # dict completable: (start, end)\n",
    "    \"alternatives\": {}, # dict alternative: list of pairs (response, correct (T/F))\n",
    "    \"videos_seen\": [], # list of videos seen (accessed) by player\n",
    "    \"videos_skipped\": [] # list of videos skipped by player\n",
    "}\n",
    "\n",
    "players_info = {} # dict with players info\n",
    "start_time = datetime.now() \n",
    "\n",
    "## FILE MUST CONTAIN LIST OF XAPI-SG PROFILE TRACES\n",
    "## (traces separated by commas and enclosed by []) \n",
    "with open(location+file_name, 'r') as f:\n",
    "    traces_dict = json.load(f)\n",
    "    for t in traces_dict:\n",
    "        process_xapi_trace(t, players_info)\n",
    "    \n",
    "end_time = datetime.now()"
   ]
  },
  {
   "cell_type": "markdown",
   "metadata": {},
   "source": [
    "### Summary of processing"
   ]
  },
  {
   "cell_type": "code",
   "execution_count": 113,
   "metadata": {},
   "outputs": [
    {
     "name": "stdout",
     "output_type": "stream",
     "text": [
      "Number of xAPI-SG traces processed: 84\n",
      "Total processing time: 0:00:00.002328\n"
     ]
    }
   ],
   "source": [
    "print(\"Number of xAPI-SG traces processed:\", len(traces_dict))\n",
    "print(\"Total processing time:\", end_time-start_time)"
   ]
  },
  {
   "cell_type": "code",
   "execution_count": 115,
   "metadata": {},
   "outputs": [],
   "source": [
    "# players_info"
   ]
  },
  {
   "cell_type": "markdown",
   "metadata": {},
   "source": [
    "# Default analysis and visualizations"
   ]
  },
  {
   "cell_type": "markdown",
   "metadata": {},
   "source": [
    "*References:* \n",
    "* **Default visualizations teacher**: https://github.com/e-ucm/rage-analytics/wiki/Default-visualizations-teacher"
   ]
  },
  {
   "cell_type": "markdown",
   "metadata": {},
   "source": [
    "### Number of unique users"
   ]
  },
  {
   "cell_type": "code",
   "execution_count": 64,
   "metadata": {},
   "outputs": [
    {
     "name": "stdout",
     "output_type": "stream",
     "text": [
      "\u001b[1m 5 users\n"
     ]
    }
   ],
   "source": [
    "bold = '\\033[1m'\n",
    "print(bold,len(players_info),\"users\")"
   ]
  },
  {
   "cell_type": "code",
   "execution_count": 65,
   "metadata": {},
   "outputs": [
    {
     "name": "stdout",
     "output_type": "stream",
     "text": [
      "Name of users: ['Juan Gomez', 'John Smith', 'James Dean', 'Mary Kate', 'Sarah Connor']\n"
     ]
    }
   ],
   "source": [
    "print(\"Name of users:\", list(players_info.keys()))"
   ]
  },
  {
   "cell_type": "markdown",
   "metadata": {},
   "source": [
    "### Filter information of player"
   ]
  },
  {
   "cell_type": "markdown",
   "metadata": {},
   "source": [
    "If you want to filter the information of only one player:\n",
    "- Get the name of the player from the list above\n",
    "- Put that name into the **\"\"** in the **name_player** field below\n",
    "- **Un-comment two lines below**"
   ]
  },
  {
   "cell_type": "code",
   "execution_count": 111,
   "metadata": {},
   "outputs": [],
   "source": [
    "# name_player = \"\"\n",
    "# players_info = {name_player : players_info[name_player]}"
   ]
  },
  {
   "cell_type": "markdown",
   "metadata": {},
   "source": [
    "## Games started / completed"
   ]
  },
  {
   "cell_type": "code",
   "execution_count": 116,
   "metadata": {},
   "outputs": [],
   "source": [
    "# count of games started and completed\n",
    "games_started = 0\n",
    "games_completed = 0\n",
    "\n",
    "for key in players_info.keys():\n",
    "    if players_info[key][\"game_started\"]:\n",
    "        games_started += 1\n",
    "    if players_info[key][\"game_completed\"]:\n",
    "        games_completed +=1"
   ]
  },
  {
   "cell_type": "code",
   "execution_count": 117,
   "metadata": {},
   "outputs": [
    {
     "data": {
      "image/png": "[encoded data removed]",
      "text/plain": [
       "<Figure size 432x288 with 1 Axes>"
      ]
     },
     "metadata": {},
     "output_type": "display_data"
    }
   ],
   "source": [
    "# pie chart of games started vs completed\n",
    "labels = 'Started', 'Completed'\n",
    "sizes = [games_started, games_completed]\n",
    "\n",
    "plt.pie(sizes, labels=labels, autopct='%1.1f%%', startangle=90)\n",
    "plt.axis('equal')\n",
    "plt.legend()\n",
    "plt.title(\"Games started and completed\")\n",
    "plt.show()"
   ]
  },
  {
   "cell_type": "markdown",
   "metadata": {},
   "source": [
    "## Videos seen / skipped by players"
   ]
  },
  {
   "cell_type": "code",
   "execution_count": 118,
   "metadata": {},
   "outputs": [],
   "source": [
    "videos_seen = {}\n",
    "videos_skipped = {}\n",
    "\n",
    "for player in players_info.keys():\n",
    "    # videos seen\n",
    "    for video_seen in players_info[player][\"videos_seen\"]:\n",
    "        if video_seen in videos_seen.keys():\n",
    "            videos_seen[video_seen] += 1\n",
    "        else:\n",
    "            videos_seen[video_seen] = 1\n",
    "        if video_seen not in videos_skipped.keys():\n",
    "            videos_skipped[video_seen] = 0\n",
    "    # videos skipped\n",
    "    for video_skipped in players_info[player][\"videos_skipped\"]:\n",
    "        if video_skipped in videos_skipped.keys():\n",
    "            videos_skipped[video_skipped] += 1\n",
    "        else:\n",
    "            videos_skipped[video_skipped] = 1\n",
    "        if video_skipped not in videos_seen.keys():\n",
    "            videos_seen[video_skipped] = 0"
   ]
  },
  {
   "cell_type": "code",
   "execution_count": 119,
   "metadata": {},
   "outputs": [
    {
     "data": {
      "image/png": "[encoded data removed]",
      "text/plain": [
       "<Figure size 432x288 with 1 Axes>"
      ]
     },
     "metadata": {
      "needs_background": "light"
     },
     "output_type": "display_data"
    }
   ],
   "source": [
    "# Bar chart showing for each video\n",
    "# the total number of times it has been seen and skipped\n",
    "\n",
    "N = len(videos_seen)\n",
    "ind = np.arange(N)\n",
    "\n",
    "width = 0.35\n",
    "\n",
    "p1 = plt.bar(ind, videos_seen.values(), width, color='orange')\n",
    "p2 = plt.bar(ind, videos_skipped.values(), width, color='lightblue', bottom=list(videos_seen.values()))\n",
    "plt.xlabel(\"Video\")\n",
    "plt.ylabel(\"Number of times\")\n",
    "plt.xticks(ind, videos_seen.keys())\n",
    "plt.legend((p1[0] , p2[0]), ('Seen', 'Skipped'))\n",
    "plt.title(\"Videos seen and skipped by players\")\n",
    "plt.show()"
   ]
  },
  {
   "cell_type": "markdown",
   "metadata": {},
   "source": [
    "## Progress of players"
   ]
  },
  {
   "cell_type": "code",
   "execution_count": 120,
   "metadata": {},
   "outputs": [
    {
     "data": {
      "image/png": "[encoded data removed]",
      "text/plain": [
       "<Figure size 432x288 with 1 Axes>"
      ]
     },
     "metadata": {
      "needs_background": "light"
     },
     "output_type": "display_data"
    }
   ],
   "source": [
    "# line chart of progress of players by time\n",
    "\n",
    "for player in players_info.keys():\n",
    "    if players_info[player][\"game_progress_per_time\"] != []:\n",
    "        progress_time = list(zip(*players_info[player][\"game_progress_per_time\"]))\n",
    "        y = progress_time[0]\n",
    "        x = progress_time[1]\n",
    "        plt.plot(x,y, label=player)\n",
    "\n",
    "plt.ylabel('Progress')\n",
    "plt.xlabel('Date')\n",
    "plt.xticks(rotation=45, ha=\"right\")\n",
    "plt.legend(loc = 'best')\n",
    "plt.gca().xaxis.set_major_formatter(mdates.DateFormatter('%H:%M:%S %d-%m-%y'))\n",
    "plt.gca().xaxis.set_major_locator(mdates.MinuteLocator(interval=5))\n",
    "plt.title(\"Progress of players by time\")\n",
    "plt.show()"
   ]
  },
  {
   "cell_type": "markdown",
   "metadata": {},
   "source": [
    "## Completables scores"
   ]
  },
  {
   "cell_type": "code",
   "execution_count": 121,
   "metadata": {},
   "outputs": [],
   "source": [
    "# find full list of completables\n",
    "completables=set()\n",
    "for player in players_info.keys():\n",
    "    if players_info[player][\"completables_scores\"] != []:\n",
    "        completables = completables.union(players_info[player][\"completables_scores\"].keys())\n",
    "completables = list(completables)\n",
    "\n",
    "# scores of each player per completable\n",
    "players_scores = []\n",
    "for player in players_info.keys():\n",
    "    if players_info[player][\"completables_scores\"] != []:\n",
    "        player_scores = []\n",
    "        for c in completables:\n",
    "            if c in players_info[player][\"completables_scores\"].keys():\n",
    "                height = players_info[player][\"completables_scores\"][c]\n",
    "            else:\n",
    "                height = 0\n",
    "            player_scores.append(height)\n",
    "        players_scores.append(player_scores)"
   ]
  },
  {
   "cell_type": "code",
   "execution_count": 122,
   "metadata": {},
   "outputs": [
    {
     "data": {
      "image/png": "[encoded data removed]",
      "text/plain": [
       "<Figure size 432x288 with 1 Axes>"
      ]
     },
     "metadata": {
      "needs_background": "light"
     },
     "output_type": "display_data"
    }
   ],
   "source": [
    "# bar chart showing the score achieved by players in the different completables\n",
    "n_groups = len(completables)\n",
    "index = np.arange(n_groups)\n",
    "bar_width = 0.2\n",
    "opacity = 0.8\n",
    "\n",
    "for i in range(len(players_scores)):\n",
    "    plt.bar(index+(i*bar_width), players_scores[i], bar_width, \n",
    "            label=list(players_info.keys())[i], \n",
    "            tick_label=completables)\n",
    "    \n",
    "plt.legend()\n",
    "plt.xlabel(\"Completable\")\n",
    "plt.ylabel(\"Score\")\n",
    "plt.title(\"Scores of players per completable\")\n",
    "plt.show()"
   ]
  },
  {
   "cell_type": "markdown",
   "metadata": {},
   "source": [
    "### Completables progress"
   ]
  },
  {
   "cell_type": "code",
   "execution_count": 123,
   "metadata": {},
   "outputs": [],
   "source": [
    "# find full list of completables\n",
    "completables=set()\n",
    "for player in players_info.keys():\n",
    "    if players_info[player][\"completables_progress\"] != []:\n",
    "        completables = completables.union(players_info[player][\"completables_progress\"].keys())\n",
    "completables = list(completables)\n",
    "\n",
    "# progress of each player per completable\n",
    "players_progress = []\n",
    "for player in players_info.keys():\n",
    "    if players_info[player][\"completables_progress\"] != []:\n",
    "        player_progress = []\n",
    "        for c in completables:\n",
    "            if c in players_info[player][\"completables_progress\"].keys():\n",
    "                height = players_info[player][\"completables_progress\"][c]\n",
    "            else:\n",
    "                height = 0\n",
    "            player_progress.append(height)\n",
    "        players_progress.append(player_progress)"
   ]
  },
  {
   "cell_type": "code",
   "execution_count": 124,
   "metadata": {},
   "outputs": [
    {
     "data": {
      "image/png": "[encoded data removed]",
      "text/plain": [
       "<Figure size 432x288 with 1 Axes>"
      ]
     },
     "metadata": {
      "needs_background": "light"
     },
     "output_type": "display_data"
    }
   ],
   "source": [
    "# Bar chart showing for each player the progress achieved in the different completables of the game as well as in the total game.\n",
    "n_groups = len(completables)\n",
    "\n",
    "fig, ax = plt.subplots()\n",
    "index = np.arange(n_groups)\n",
    "bar_width = 0.2\n",
    "opacity = 0.8\n",
    "\n",
    "for i in range(len(players_progress)):\n",
    "    plt.bar(index+i*bar_width, players_progress[i], bar_width, \n",
    "            label=list(players_info.keys())[i], \n",
    "            tick_label=completables)\n",
    "    \n",
    "plt.legend()\n",
    "plt.xlabel(\"Completable\")\n",
    "plt.ylabel(\"Progress\")\n",
    "plt.ylim((0,1.05))\n",
    "plt.title(\"Progress of players per completable\")\n",
    "plt.show()"
   ]
  },
  {
   "cell_type": "markdown",
   "metadata": {},
   "source": [
    "## Completables times"
   ]
  },
  {
   "cell_type": "code",
   "execution_count": 125,
   "metadata": {},
   "outputs": [],
   "source": [
    "# find full list of completables\n",
    "completables=set()\n",
    "for player in players_info.keys():\n",
    "    if players_info[player][\"completables_times\"] != []:\n",
    "        completables = completables.union(players_info[player][\"completables_times\"].keys())\n",
    "completables = list(completables)\n",
    "\n",
    "# max, min time per completable\n",
    "max_times = []\n",
    "min_times = []\n",
    "for c in completables:\n",
    "    maximum = 0\n",
    "    minimum = float('Inf')\n",
    "    for player in players_info.keys():\n",
    "        if c in players_info[player][\"completables_times\"].keys():\n",
    "            times = players_info[player][\"completables_times\"][c]\n",
    "            if len(times)==2:\n",
    "                end_time = datetime.strptime(times[1], '%Y-%m-%dT%H:%M:%SZ')\n",
    "                start_time = datetime.strptime(times[0], '%Y-%m-%dT%H:%M:%SZ')\n",
    "                raw_total_time = end_time-start_time\n",
    "                total_time = raw_total_time.days*24*60+raw_total_time.seconds/60.0 # minutes\n",
    "                # update values\n",
    "                if total_time > maximum:\n",
    "                    maximum = total_time\n",
    "                if total_time < minimum:\n",
    "                    minimum = total_time\n",
    "    max_times.append(maximum)\n",
    "    min_times.append(minimum)"
   ]
  },
  {
   "cell_type": "code",
   "execution_count": 126,
   "metadata": {},
   "outputs": [
    {
     "data": {
      "image/png": "[encoded data removed]",
      "text/plain": [
       "<Figure size 432x288 with 1 Axes>"
      ]
     },
     "metadata": {
      "needs_background": "light"
     },
     "output_type": "display_data"
    }
   ],
   "source": [
    "# Bar chart showing for each completable the maximum, minimum and mean time of completion by players.\n",
    "n_groups = len(completables)\n",
    "\n",
    "fig, ax = plt.subplots()\n",
    "index = np.arange(n_groups)\n",
    "bar_width = 0.35\n",
    "opacity = 0.8\n",
    "\n",
    "times=[max_times,min_times]\n",
    "labels=['max', 'min']\n",
    "\n",
    "for i in range(len(labels)):\n",
    "    plt.bar(index+i*bar_width, times[i], bar_width, \n",
    "            label=labels[i], \n",
    "            tick_label=completables)\n",
    "    \n",
    "plt.legend()\n",
    "plt.xlabel(\"Completable\")\n",
    "plt.ylabel(\"Completion time\")\n",
    "plt.title(\"Max and min completion times per completable\")\n",
    "plt.show()"
   ]
  },
  {
   "cell_type": "markdown",
   "metadata": {},
   "source": [
    "## Correct / incorrect alternatives per player"
   ]
  },
  {
   "cell_type": "code",
   "execution_count": 127,
   "metadata": {},
   "outputs": [],
   "source": [
    "true_per_player = []\n",
    "false_per_player = []\n",
    "\n",
    "for player in players_info.keys():\n",
    "    total_true = 0\n",
    "    total_false = 0\n",
    "    for alt in players_info[player][\"alternatives\"].keys():\n",
    "        _, results = zip(*players_info[player][\"alternatives\"][alt]) # take only T/F result values\n",
    "        total_true += results.count(\"True\")\n",
    "        total_false += results.count(\"False\")\n",
    "    true_per_player.append(total_true)\n",
    "    false_per_player.append(total_false)"
   ]
  },
  {
   "cell_type": "code",
   "execution_count": 128,
   "metadata": {},
   "outputs": [
    {
     "data": {
      "image/png": "[encoded data removed]",
      "text/plain": [
       "<Figure size 432x288 with 1 Axes>"
      ]
     },
     "metadata": {
      "needs_background": "light"
     },
     "output_type": "display_data"
    }
   ],
   "source": [
    "# Bar chart showing for each user the number of correct and incorrect alternatives \n",
    "# selected in multiple-choice questions\n",
    "\n",
    "N = len(players_info)\n",
    "ind = np.arange(N)\n",
    "\n",
    "width = 0.35\n",
    "\n",
    "p1 = plt.bar(ind, false_per_player, width, color='r')\n",
    "p2 = plt.bar(ind, true_per_player, width, color='g', bottom=false_per_player)\n",
    "plt.xlabel(\"Player\")\n",
    "plt.ylabel(\"Number of questions\")\n",
    "plt.xticks(ind, players_info.keys())\n",
    "plt.legend((p1[0] , p2[0]), ('Incorrect', 'Correct'))\n",
    "plt.yticks(np.arange(0, 10, 1))\n",
    "plt.title(\"Correct and incorrect responses per player\")\n",
    "plt.show()"
   ]
  },
  {
   "cell_type": "markdown",
   "metadata": {},
   "source": [
    "## Correct / incorrect alternatives per question"
   ]
  },
  {
   "cell_type": "code",
   "execution_count": 129,
   "metadata": {},
   "outputs": [],
   "source": [
    "# find full list of alternatives\n",
    "alternatives_list = set()\n",
    "for player in players_info.keys():\n",
    "    alternatives_list = alternatives_list.union(players_info[player][\"alternatives\"].keys())\n",
    "alternatives_list = list(alternatives_list)\n",
    "\n",
    "# alternatives correct and incorrect responses\n",
    "true_per_alternative = []\n",
    "false_per_alternative = []\n",
    "for alt in alternatives_list:\n",
    "    alt_true = 0\n",
    "    alt_false = 0\n",
    "    for player in players_info.keys():\n",
    "         if alt in players_info[player][\"alternatives\"].keys():\n",
    "            _, results = zip(*players_info[player][\"alternatives\"][alt])\n",
    "            alt_true += results.count(\"True\")\n",
    "            alt_false += results.count(\"False\")\n",
    "    true_per_alternative.append(alt_true)\n",
    "    false_per_alternative.append(alt_false)"
   ]
  },
  {
   "cell_type": "code",
   "execution_count": 130,
   "metadata": {},
   "outputs": [
    {
     "data": {
      "image/png": "[encoded data removed]",
      "text/plain": [
       "<Figure size 432x288 with 1 Axes>"
      ]
     },
     "metadata": {
      "needs_background": "light"
     },
     "output_type": "display_data"
    }
   ],
   "source": [
    "# Bar chart showing the total number of correct and incorrect alternatives \n",
    "# selected by players in each multiple-choice question\n",
    "\n",
    "N = len(alternatives_list)\n",
    "ind = np.arange(N)\n",
    "\n",
    "width = 0.35\n",
    "\n",
    "p1 = plt.bar(ind, false_per_alternative, width, color='r')\n",
    "p2 = plt.bar(ind, true_per_alternative, width, color='g', bottom=false_per_alternative)\n",
    "plt.xlabel(\"Alternative\")\n",
    "plt.ylabel(\"Number of questions\")\n",
    "plt.xticks(ind, alternatives_list)\n",
    "plt.legend((p1[0] , p2[0]), ('Incorrect', 'Correct'))\n",
    "plt.title(\"Correct and incorrect responses per alternative\")\n",
    "plt.show()"
   ]
  },
  {
   "cell_type": "markdown",
   "metadata": {},
   "source": [
    "## Alternatives selected per question"
   ]
  },
  {
   "cell_type": "code",
   "execution_count": 131,
   "metadata": {},
   "outputs": [],
   "source": [
    "# find full list of alternatives\n",
    "alternatives_list = set()\n",
    "for player in players_info.keys():\n",
    "    alternatives_list = alternatives_list.union(set(players_info[player][\"alternatives\"].keys()))  \n",
    "alternatives_list = list(alternatives_list)\n",
    "\n",
    "# responses per alternative\n",
    "selected_per_alternative = {}\n",
    "for alt in alternatives_list:\n",
    "    selected = []\n",
    "    for player in players_info.keys():\n",
    "         if alt in players_info[player][\"alternatives\"].keys():\n",
    "            alternative, _ = zip(*players_info[player][\"alternatives\"][alt])\n",
    "            selected.extend(list(alternative))\n",
    "    selected_per_alternative[alt] = Counter(selected)"
   ]
  },
  {
   "cell_type": "code",
   "execution_count": 132,
   "metadata": {},
   "outputs": [
    {
     "data": {
      "image/png": "[encoded data removed]",
      "text/plain": [
       "<Figure size 432x288 with 2 Axes>"
      ]
     },
     "metadata": {
      "needs_background": "light"
     },
     "output_type": "display_data"
    }
   ],
   "source": [
    "# Multiple bar chart showing the alternatives selected in each multiple-choice question.\n",
    "\n",
    "number_of_plots = len(selected_per_alternative)\n",
    "fig, axs = plt.subplots(number_of_plots)\n",
    "i = 0\n",
    "for key in selected_per_alternative.keys():\n",
    "    axs[i].bar(range(len(selected_per_alternative[key])), \n",
    "               selected_per_alternative[key].values(), \n",
    "               tick_label=list(selected_per_alternative[key].keys()))\n",
    "    axs[i].set_title('Responses to '+key)\n",
    "    axs[i].set(xlabel=\"Response\")\n",
    "    i += 1\n",
    "\n",
    "plt.tight_layout()"
   ]
  }
 ],
 "metadata": {
  "kernelspec": {
   "display_name": "Python 3",
   "language": "python",
   "name": "python3"
  },
  "language_info": {
   "codemirror_mode": {
    "name": "ipython",
    "version": 3
   },
   "file_extension": ".py",
   "mimetype": "text/x-python",
   "name": "python",
   "nbconvert_exporter": "python",
   "pygments_lexer": "ipython3",
   "version": "3.5.1+"
  }
 },
 "nbformat": 4,
 "nbformat_minor": 2
}
